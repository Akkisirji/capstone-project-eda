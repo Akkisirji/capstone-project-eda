{
  "cells": [
    {
      "cell_type": "markdown",
      "metadata": {
        "id": "view-in-github",
        "colab_type": "text"
      },
      "source": [
        "<a href=\"https://colab.research.google.com/github/Akkisirji/capstone-project-eda/blob/main/Hotel_Booking_Analysis_by_AKSHAY_Capstone_Project.ipynb\" target=\"_parent\"><img src=\"https://colab.research.google.com/assets/colab-badge.svg\" alt=\"Open In Colab\"/></a>"
      ]
    },
    {
      "cell_type": "markdown",
      "source": [
        "\n",
        "\n",
        "### ***> LET'S BEGIN***"
      ],
      "metadata": {
        "id": "G3Q4m2doLsoL"
      }
    },
    {
      "cell_type": "markdown",
      "metadata": {
        "id": "Y06xIdG26kRF"
      },
      "source": [
        "## <b> Have you ever wondered when the best time of year to book a hotel room is? Or the optimal length of stay in order to get the best daily rate? What if you wanted to predict whether or not a hotel was likely to receive a disproportionately high number of special requests? This hotel booking dataset can help you explore those questions!\n",
        "\n",
        "## <b>This data set contains booking information for a city hotel and a resort hotel, and includes information such as when the booking was made, length of stay, the number of adults, children, and/or babies, and the number of available parking spaces, among other things. All personally identifying information has been removed from the data. </b>\n",
        "\n",
        "## <b> Explore and analyze the data to discover important factors that govern the bookings. </b>"
      ]
    },
    {
      "cell_type": "code",
      "execution_count": null,
      "metadata": {
        "id": "dByMsuzT8Tnw"
      },
      "outputs": [],
      "source": [
        "# First we import Python libraries.\n",
        "import numpy as np\n",
        "import pandas as pd\n",
        "import matplotlib\n",
        "import matplotlib.pyplot as plt\n",
        "import seaborn as sns\n",
        "%matplotlib inline"
      ]
    },
    {
      "cell_type": "code",
      "execution_count": null,
      "metadata": {
        "id": "sK3BOShPJCJZ"
      },
      "outputs": [],
      "source": [
        "#We have now linked our Googlecolab notebook to Google Drive.\n"
      ]
    },
    {
      "cell_type": "code",
      "source": [
        "from google.colab import drive\n",
        "drive.mount('/content/drive')"
      ],
      "metadata": {
        "colab": {
          "base_uri": "https://localhost:8080/"
        },
        "id": "ZLafwItHKXwH",
        "outputId": "6ebf60bf-fd84-48f8-c916-a66558f4854b"
      },
      "execution_count": null,
      "outputs": [
        {
          "output_type": "stream",
          "name": "stdout",
          "text": [
            "Mounted at /content/drive\n"
          ]
        }
      ]
    },
    {
      "cell_type": "code",
      "execution_count": null,
      "metadata": {
        "id": "OYmd58BGKBWb"
      },
      "outputs": [],
      "source": [
        "#Here we import the Hotel Booking.csv file from Google Drive and assign it the name df_hotel. \n",
        "df_hotel=pd.read_csv('/content/drive/MyDrive/Colab Notebooks/capstone project/hotel analysis/Hotel Bookings.csv')\n",
        "df1=df_hotel.copy()"
      ]
    },
    {
      "cell_type": "code",
      "execution_count": null,
      "metadata": {
        "id": "R6J0lQwKK2AR",
        "colab": {
          "base_uri": "https://localhost:8080/",
          "height": 661
        },
        "outputId": "78aa620a-cb71-4cbd-c52b-71bf1a0ba481"
      },
      "outputs": [
        {
          "output_type": "execute_result",
          "data": {
            "text/plain": [
              "               hotel  is_canceled  lead_time  arrival_date_year  \\\n",
              "0       Resort Hotel            0        342               2015   \n",
              "1       Resort Hotel            0        737               2015   \n",
              "2       Resort Hotel            0          7               2015   \n",
              "3       Resort Hotel            0         13               2015   \n",
              "4       Resort Hotel            0         14               2015   \n",
              "...              ...          ...        ...                ...   \n",
              "119385    City Hotel            0         23               2017   \n",
              "119386    City Hotel            0        102               2017   \n",
              "119387    City Hotel            0         34               2017   \n",
              "119388    City Hotel            0        109               2017   \n",
              "119389    City Hotel            0        205               2017   \n",
              "\n",
              "       arrival_date_month  arrival_date_week_number  \\\n",
              "0                    July                        27   \n",
              "1                    July                        27   \n",
              "2                    July                        27   \n",
              "3                    July                        27   \n",
              "4                    July                        27   \n",
              "...                   ...                       ...   \n",
              "119385             August                        35   \n",
              "119386             August                        35   \n",
              "119387             August                        35   \n",
              "119388             August                        35   \n",
              "119389             August                        35   \n",
              "\n",
              "        arrival_date_day_of_month  stays_in_weekend_nights  \\\n",
              "0                               1                        0   \n",
              "1                               1                        0   \n",
              "2                               1                        0   \n",
              "3                               1                        0   \n",
              "4                               1                        0   \n",
              "...                           ...                      ...   \n",
              "119385                         30                        2   \n",
              "119386                         31                        2   \n",
              "119387                         31                        2   \n",
              "119388                         31                        2   \n",
              "119389                         29                        2   \n",
              "\n",
              "        stays_in_week_nights  adults  ...  deposit_type  agent company  \\\n",
              "0                          0       2  ...    No Deposit    NaN     NaN   \n",
              "1                          0       2  ...    No Deposit    NaN     NaN   \n",
              "2                          1       1  ...    No Deposit    NaN     NaN   \n",
              "3                          1       1  ...    No Deposit  304.0     NaN   \n",
              "4                          2       2  ...    No Deposit  240.0     NaN   \n",
              "...                      ...     ...  ...           ...    ...     ...   \n",
              "119385                     5       2  ...    No Deposit  394.0     NaN   \n",
              "119386                     5       3  ...    No Deposit    9.0     NaN   \n",
              "119387                     5       2  ...    No Deposit    9.0     NaN   \n",
              "119388                     5       2  ...    No Deposit   89.0     NaN   \n",
              "119389                     7       2  ...    No Deposit    9.0     NaN   \n",
              "\n",
              "       days_in_waiting_list customer_type     adr  \\\n",
              "0                         0     Transient    0.00   \n",
              "1                         0     Transient    0.00   \n",
              "2                         0     Transient   75.00   \n",
              "3                         0     Transient   75.00   \n",
              "4                         0     Transient   98.00   \n",
              "...                     ...           ...     ...   \n",
              "119385                    0     Transient   96.14   \n",
              "119386                    0     Transient  225.43   \n",
              "119387                    0     Transient  157.71   \n",
              "119388                    0     Transient  104.40   \n",
              "119389                    0     Transient  151.20   \n",
              "\n",
              "        required_car_parking_spaces  total_of_special_requests  \\\n",
              "0                                 0                          0   \n",
              "1                                 0                          0   \n",
              "2                                 0                          0   \n",
              "3                                 0                          0   \n",
              "4                                 0                          1   \n",
              "...                             ...                        ...   \n",
              "119385                            0                          0   \n",
              "119386                            0                          2   \n",
              "119387                            0                          4   \n",
              "119388                            0                          0   \n",
              "119389                            0                          2   \n",
              "\n",
              "        reservation_status reservation_status_date  \n",
              "0                Check-Out              2015-07-01  \n",
              "1                Check-Out              2015-07-01  \n",
              "2                Check-Out              2015-07-02  \n",
              "3                Check-Out              2015-07-02  \n",
              "4                Check-Out              2015-07-03  \n",
              "...                    ...                     ...  \n",
              "119385           Check-Out              2017-09-06  \n",
              "119386           Check-Out              2017-09-07  \n",
              "119387           Check-Out              2017-09-07  \n",
              "119388           Check-Out              2017-09-07  \n",
              "119389           Check-Out              2017-09-07  \n",
              "\n",
              "[119390 rows x 32 columns]"
            ],
            "text/html": [
              "\n",
              "  <div id=\"df-87ac1968-2c0f-47f6-9c0e-f3d9dc047f5d\">\n",
              "    <div class=\"colab-df-container\">\n",
              "      <div>\n",
              "<style scoped>\n",
              "    .dataframe tbody tr th:only-of-type {\n",
              "        vertical-align: middle;\n",
              "    }\n",
              "\n",
              "    .dataframe tbody tr th {\n",
              "        vertical-align: top;\n",
              "    }\n",
              "\n",
              "    .dataframe thead th {\n",
              "        text-align: right;\n",
              "    }\n",
              "</style>\n",
              "<table border=\"1\" class=\"dataframe\">\n",
              "  <thead>\n",
              "    <tr style=\"text-align: right;\">\n",
              "      <th></th>\n",
              "      <th>hotel</th>\n",
              "      <th>is_canceled</th>\n",
              "      <th>lead_time</th>\n",
              "      <th>arrival_date_year</th>\n",
              "      <th>arrival_date_month</th>\n",
              "      <th>arrival_date_week_number</th>\n",
              "      <th>arrival_date_day_of_month</th>\n",
              "      <th>stays_in_weekend_nights</th>\n",
              "      <th>stays_in_week_nights</th>\n",
              "      <th>adults</th>\n",
              "      <th>...</th>\n",
              "      <th>deposit_type</th>\n",
              "      <th>agent</th>\n",
              "      <th>company</th>\n",
              "      <th>days_in_waiting_list</th>\n",
              "      <th>customer_type</th>\n",
              "      <th>adr</th>\n",
              "      <th>required_car_parking_spaces</th>\n",
              "      <th>total_of_special_requests</th>\n",
              "      <th>reservation_status</th>\n",
              "      <th>reservation_status_date</th>\n",
              "    </tr>\n",
              "  </thead>\n",
              "  <tbody>\n",
              "    <tr>\n",
              "      <th>0</th>\n",
              "      <td>Resort Hotel</td>\n",
              "      <td>0</td>\n",
              "      <td>342</td>\n",
              "      <td>2015</td>\n",
              "      <td>July</td>\n",
              "      <td>27</td>\n",
              "      <td>1</td>\n",
              "      <td>0</td>\n",
              "      <td>0</td>\n",
              "      <td>2</td>\n",
              "      <td>...</td>\n",
              "      <td>No Deposit</td>\n",
              "      <td>NaN</td>\n",
              "      <td>NaN</td>\n",
              "      <td>0</td>\n",
              "      <td>Transient</td>\n",
              "      <td>0.00</td>\n",
              "      <td>0</td>\n",
              "      <td>0</td>\n",
              "      <td>Check-Out</td>\n",
              "      <td>2015-07-01</td>\n",
              "    </tr>\n",
              "    <tr>\n",
              "      <th>1</th>\n",
              "      <td>Resort Hotel</td>\n",
              "      <td>0</td>\n",
              "      <td>737</td>\n",
              "      <td>2015</td>\n",
              "      <td>July</td>\n",
              "      <td>27</td>\n",
              "      <td>1</td>\n",
              "      <td>0</td>\n",
              "      <td>0</td>\n",
              "      <td>2</td>\n",
              "      <td>...</td>\n",
              "      <td>No Deposit</td>\n",
              "      <td>NaN</td>\n",
              "      <td>NaN</td>\n",
              "      <td>0</td>\n",
              "      <td>Transient</td>\n",
              "      <td>0.00</td>\n",
              "      <td>0</td>\n",
              "      <td>0</td>\n",
              "      <td>Check-Out</td>\n",
              "      <td>2015-07-01</td>\n",
              "    </tr>\n",
              "    <tr>\n",
              "      <th>2</th>\n",
              "      <td>Resort Hotel</td>\n",
              "      <td>0</td>\n",
              "      <td>7</td>\n",
              "      <td>2015</td>\n",
              "      <td>July</td>\n",
              "      <td>27</td>\n",
              "      <td>1</td>\n",
              "      <td>0</td>\n",
              "      <td>1</td>\n",
              "      <td>1</td>\n",
              "      <td>...</td>\n",
              "      <td>No Deposit</td>\n",
              "      <td>NaN</td>\n",
              "      <td>NaN</td>\n",
              "      <td>0</td>\n",
              "      <td>Transient</td>\n",
              "      <td>75.00</td>\n",
              "      <td>0</td>\n",
              "      <td>0</td>\n",
              "      <td>Check-Out</td>\n",
              "      <td>2015-07-02</td>\n",
              "    </tr>\n",
              "    <tr>\n",
              "      <th>3</th>\n",
              "      <td>Resort Hotel</td>\n",
              "      <td>0</td>\n",
              "      <td>13</td>\n",
              "      <td>2015</td>\n",
              "      <td>July</td>\n",
              "      <td>27</td>\n",
              "      <td>1</td>\n",
              "      <td>0</td>\n",
              "      <td>1</td>\n",
              "      <td>1</td>\n",
              "      <td>...</td>\n",
              "      <td>No Deposit</td>\n",
              "      <td>304.0</td>\n",
              "      <td>NaN</td>\n",
              "      <td>0</td>\n",
              "      <td>Transient</td>\n",
              "      <td>75.00</td>\n",
              "      <td>0</td>\n",
              "      <td>0</td>\n",
              "      <td>Check-Out</td>\n",
              "      <td>2015-07-02</td>\n",
              "    </tr>\n",
              "    <tr>\n",
              "      <th>4</th>\n",
              "      <td>Resort Hotel</td>\n",
              "      <td>0</td>\n",
              "      <td>14</td>\n",
              "      <td>2015</td>\n",
              "      <td>July</td>\n",
              "      <td>27</td>\n",
              "      <td>1</td>\n",
              "      <td>0</td>\n",
              "      <td>2</td>\n",
              "      <td>2</td>\n",
              "      <td>...</td>\n",
              "      <td>No Deposit</td>\n",
              "      <td>240.0</td>\n",
              "      <td>NaN</td>\n",
              "      <td>0</td>\n",
              "      <td>Transient</td>\n",
              "      <td>98.00</td>\n",
              "      <td>0</td>\n",
              "      <td>1</td>\n",
              "      <td>Check-Out</td>\n",
              "      <td>2015-07-03</td>\n",
              "    </tr>\n",
              "    <tr>\n",
              "      <th>...</th>\n",
              "      <td>...</td>\n",
              "      <td>...</td>\n",
              "      <td>...</td>\n",
              "      <td>...</td>\n",
              "      <td>...</td>\n",
              "      <td>...</td>\n",
              "      <td>...</td>\n",
              "      <td>...</td>\n",
              "      <td>...</td>\n",
              "      <td>...</td>\n",
              "      <td>...</td>\n",
              "      <td>...</td>\n",
              "      <td>...</td>\n",
              "      <td>...</td>\n",
              "      <td>...</td>\n",
              "      <td>...</td>\n",
              "      <td>...</td>\n",
              "      <td>...</td>\n",
              "      <td>...</td>\n",
              "      <td>...</td>\n",
              "      <td>...</td>\n",
              "    </tr>\n",
              "    <tr>\n",
              "      <th>119385</th>\n",
              "      <td>City Hotel</td>\n",
              "      <td>0</td>\n",
              "      <td>23</td>\n",
              "      <td>2017</td>\n",
              "      <td>August</td>\n",
              "      <td>35</td>\n",
              "      <td>30</td>\n",
              "      <td>2</td>\n",
              "      <td>5</td>\n",
              "      <td>2</td>\n",
              "      <td>...</td>\n",
              "      <td>No Deposit</td>\n",
              "      <td>394.0</td>\n",
              "      <td>NaN</td>\n",
              "      <td>0</td>\n",
              "      <td>Transient</td>\n",
              "      <td>96.14</td>\n",
              "      <td>0</td>\n",
              "      <td>0</td>\n",
              "      <td>Check-Out</td>\n",
              "      <td>2017-09-06</td>\n",
              "    </tr>\n",
              "    <tr>\n",
              "      <th>119386</th>\n",
              "      <td>City Hotel</td>\n",
              "      <td>0</td>\n",
              "      <td>102</td>\n",
              "      <td>2017</td>\n",
              "      <td>August</td>\n",
              "      <td>35</td>\n",
              "      <td>31</td>\n",
              "      <td>2</td>\n",
              "      <td>5</td>\n",
              "      <td>3</td>\n",
              "      <td>...</td>\n",
              "      <td>No Deposit</td>\n",
              "      <td>9.0</td>\n",
              "      <td>NaN</td>\n",
              "      <td>0</td>\n",
              "      <td>Transient</td>\n",
              "      <td>225.43</td>\n",
              "      <td>0</td>\n",
              "      <td>2</td>\n",
              "      <td>Check-Out</td>\n",
              "      <td>2017-09-07</td>\n",
              "    </tr>\n",
              "    <tr>\n",
              "      <th>119387</th>\n",
              "      <td>City Hotel</td>\n",
              "      <td>0</td>\n",
              "      <td>34</td>\n",
              "      <td>2017</td>\n",
              "      <td>August</td>\n",
              "      <td>35</td>\n",
              "      <td>31</td>\n",
              "      <td>2</td>\n",
              "      <td>5</td>\n",
              "      <td>2</td>\n",
              "      <td>...</td>\n",
              "      <td>No Deposit</td>\n",
              "      <td>9.0</td>\n",
              "      <td>NaN</td>\n",
              "      <td>0</td>\n",
              "      <td>Transient</td>\n",
              "      <td>157.71</td>\n",
              "      <td>0</td>\n",
              "      <td>4</td>\n",
              "      <td>Check-Out</td>\n",
              "      <td>2017-09-07</td>\n",
              "    </tr>\n",
              "    <tr>\n",
              "      <th>119388</th>\n",
              "      <td>City Hotel</td>\n",
              "      <td>0</td>\n",
              "      <td>109</td>\n",
              "      <td>2017</td>\n",
              "      <td>August</td>\n",
              "      <td>35</td>\n",
              "      <td>31</td>\n",
              "      <td>2</td>\n",
              "      <td>5</td>\n",
              "      <td>2</td>\n",
              "      <td>...</td>\n",
              "      <td>No Deposit</td>\n",
              "      <td>89.0</td>\n",
              "      <td>NaN</td>\n",
              "      <td>0</td>\n",
              "      <td>Transient</td>\n",
              "      <td>104.40</td>\n",
              "      <td>0</td>\n",
              "      <td>0</td>\n",
              "      <td>Check-Out</td>\n",
              "      <td>2017-09-07</td>\n",
              "    </tr>\n",
              "    <tr>\n",
              "      <th>119389</th>\n",
              "      <td>City Hotel</td>\n",
              "      <td>0</td>\n",
              "      <td>205</td>\n",
              "      <td>2017</td>\n",
              "      <td>August</td>\n",
              "      <td>35</td>\n",
              "      <td>29</td>\n",
              "      <td>2</td>\n",
              "      <td>7</td>\n",
              "      <td>2</td>\n",
              "      <td>...</td>\n",
              "      <td>No Deposit</td>\n",
              "      <td>9.0</td>\n",
              "      <td>NaN</td>\n",
              "      <td>0</td>\n",
              "      <td>Transient</td>\n",
              "      <td>151.20</td>\n",
              "      <td>0</td>\n",
              "      <td>2</td>\n",
              "      <td>Check-Out</td>\n",
              "      <td>2017-09-07</td>\n",
              "    </tr>\n",
              "  </tbody>\n",
              "</table>\n",
              "<p>119390 rows × 32 columns</p>\n",
              "</div>\n",
              "      <button class=\"colab-df-convert\" onclick=\"convertToInteractive('df-87ac1968-2c0f-47f6-9c0e-f3d9dc047f5d')\"\n",
              "              title=\"Convert this dataframe to an interactive table.\"\n",
              "              style=\"display:none;\">\n",
              "        \n",
              "  <svg xmlns=\"http://www.w3.org/2000/svg\" height=\"24px\"viewBox=\"0 0 24 24\"\n",
              "       width=\"24px\">\n",
              "    <path d=\"M0 0h24v24H0V0z\" fill=\"none\"/>\n",
              "    <path d=\"M18.56 5.44l.94 2.06.94-2.06 2.06-.94-2.06-.94-.94-2.06-.94 2.06-2.06.94zm-11 1L8.5 8.5l.94-2.06 2.06-.94-2.06-.94L8.5 2.5l-.94 2.06-2.06.94zm10 10l.94 2.06.94-2.06 2.06-.94-2.06-.94-.94-2.06-.94 2.06-2.06.94z\"/><path d=\"M17.41 7.96l-1.37-1.37c-.4-.4-.92-.59-1.43-.59-.52 0-1.04.2-1.43.59L10.3 9.45l-7.72 7.72c-.78.78-.78 2.05 0 2.83L4 21.41c.39.39.9.59 1.41.59.51 0 1.02-.2 1.41-.59l7.78-7.78 2.81-2.81c.8-.78.8-2.07 0-2.86zM5.41 20L4 18.59l7.72-7.72 1.47 1.35L5.41 20z\"/>\n",
              "  </svg>\n",
              "      </button>\n",
              "      \n",
              "  <style>\n",
              "    .colab-df-container {\n",
              "      display:flex;\n",
              "      flex-wrap:wrap;\n",
              "      gap: 12px;\n",
              "    }\n",
              "\n",
              "    .colab-df-convert {\n",
              "      background-color: #E8F0FE;\n",
              "      border: none;\n",
              "      border-radius: 50%;\n",
              "      cursor: pointer;\n",
              "      display: none;\n",
              "      fill: #1967D2;\n",
              "      height: 32px;\n",
              "      padding: 0 0 0 0;\n",
              "      width: 32px;\n",
              "    }\n",
              "\n",
              "    .colab-df-convert:hover {\n",
              "      background-color: #E2EBFA;\n",
              "      box-shadow: 0px 1px 2px rgba(60, 64, 67, 0.3), 0px 1px 3px 1px rgba(60, 64, 67, 0.15);\n",
              "      fill: #174EA6;\n",
              "    }\n",
              "\n",
              "    [theme=dark] .colab-df-convert {\n",
              "      background-color: #3B4455;\n",
              "      fill: #D2E3FC;\n",
              "    }\n",
              "\n",
              "    [theme=dark] .colab-df-convert:hover {\n",
              "      background-color: #434B5C;\n",
              "      box-shadow: 0px 1px 3px 1px rgba(0, 0, 0, 0.15);\n",
              "      filter: drop-shadow(0px 1px 2px rgba(0, 0, 0, 0.3));\n",
              "      fill: #FFFFFF;\n",
              "    }\n",
              "  </style>\n",
              "\n",
              "      <script>\n",
              "        const buttonEl =\n",
              "          document.querySelector('#df-87ac1968-2c0f-47f6-9c0e-f3d9dc047f5d button.colab-df-convert');\n",
              "        buttonEl.style.display =\n",
              "          google.colab.kernel.accessAllowed ? 'block' : 'none';\n",
              "\n",
              "        async function convertToInteractive(key) {\n",
              "          const element = document.querySelector('#df-87ac1968-2c0f-47f6-9c0e-f3d9dc047f5d');\n",
              "          const dataTable =\n",
              "            await google.colab.kernel.invokeFunction('convertToInteractive',\n",
              "                                                     [key], {});\n",
              "          if (!dataTable) return;\n",
              "\n",
              "          const docLinkHtml = 'Like what you see? Visit the ' +\n",
              "            '<a target=\"_blank\" href=https://colab.research.google.com/notebooks/data_table.ipynb>data table notebook</a>'\n",
              "            + ' to learn more about interactive tables.';\n",
              "          element.innerHTML = '';\n",
              "          dataTable['output_type'] = 'display_data';\n",
              "          await google.colab.output.renderOutput(dataTable, element);\n",
              "          const docLink = document.createElement('div');\n",
              "          docLink.innerHTML = docLinkHtml;\n",
              "          element.appendChild(docLink);\n",
              "        }\n",
              "      </script>\n",
              "    </div>\n",
              "  </div>\n",
              "  "
            ]
          },
          "metadata": {},
          "execution_count": 6
        }
      ],
      "source": [
        "#Just take a look at the df_hotel file data.\n",
        "df_hotel"
      ]
    },
    {
      "cell_type": "code",
      "execution_count": null,
      "metadata": {
        "id": "1DrsK8bbLoOe",
        "colab": {
          "base_uri": "https://localhost:8080/"
        },
        "outputId": "f336d6f7-56da-4575-8d10-a89867a21e8c"
      },
      "outputs": [
        {
          "output_type": "stream",
          "name": "stdout",
          "text": [
            "<class 'pandas.core.frame.DataFrame'>\n",
            "RangeIndex: 119390 entries, 0 to 119389\n",
            "Data columns (total 32 columns):\n",
            " #   Column                          Non-Null Count   Dtype  \n",
            "---  ------                          --------------   -----  \n",
            " 0   hotel                           119390 non-null  object \n",
            " 1   is_canceled                     119390 non-null  int64  \n",
            " 2   lead_time                       119390 non-null  int64  \n",
            " 3   arrival_date_year               119390 non-null  int64  \n",
            " 4   arrival_date_month              119390 non-null  object \n",
            " 5   arrival_date_week_number        119390 non-null  int64  \n",
            " 6   arrival_date_day_of_month       119390 non-null  int64  \n",
            " 7   stays_in_weekend_nights         119390 non-null  int64  \n",
            " 8   stays_in_week_nights            119390 non-null  int64  \n",
            " 9   adults                          119390 non-null  int64  \n",
            " 10  children                        119386 non-null  float64\n",
            " 11  babies                          119390 non-null  int64  \n",
            " 12  meal                            119390 non-null  object \n",
            " 13  country                         118902 non-null  object \n",
            " 14  market_segment                  119390 non-null  object \n",
            " 15  distribution_channel            119390 non-null  object \n",
            " 16  is_repeated_guest               119390 non-null  int64  \n",
            " 17  previous_cancellations          119390 non-null  int64  \n",
            " 18  previous_bookings_not_canceled  119390 non-null  int64  \n",
            " 19  reserved_room_type              119390 non-null  object \n",
            " 20  assigned_room_type              119390 non-null  object \n",
            " 21  booking_changes                 119390 non-null  int64  \n",
            " 22  deposit_type                    119390 non-null  object \n",
            " 23  agent                           103050 non-null  float64\n",
            " 24  company                         6797 non-null    float64\n",
            " 25  days_in_waiting_list            119390 non-null  int64  \n",
            " 26  customer_type                   119390 non-null  object \n",
            " 27  adr                             119390 non-null  float64\n",
            " 28  required_car_parking_spaces     119390 non-null  int64  \n",
            " 29  total_of_special_requests       119390 non-null  int64  \n",
            " 30  reservation_status              119390 non-null  object \n",
            " 31  reservation_status_date         119390 non-null  object \n",
            "dtypes: float64(4), int64(16), object(12)\n",
            "memory usage: 29.1+ MB\n"
          ]
        }
      ],
      "source": [
        "#get the basic info of each columns with not null rows and datatype\n",
        "df_hotel.info()"
      ]
    },
    {
      "cell_type": "markdown",
      "source": [
        "***KNOW YOUR DATA***"
      ],
      "metadata": {
        "id": "OyUsDGKaMHql"
      }
    },
    {
      "cell_type": "markdown",
      "metadata": {
        "id": "f_TIcqUFP9_k"
      },
      "source": [
        "\n",
        "# Now just take a look at the unique values of each column in the df_hotel file.\n"
      ]
    },
    {
      "cell_type": "code",
      "execution_count": null,
      "metadata": {
        "id": "ttV3fffaieX7",
        "colab": {
          "base_uri": "https://localhost:8080/"
        },
        "outputId": "06ce1db5-8460-4497-8c8a-b4fd5549a4fe"
      },
      "outputs": [
        {
          "output_type": "stream",
          "name": "stdout",
          "text": [
            "['Resort Hotel' 'City Hotel']\n"
          ]
        }
      ],
      "source": [
        "print(df_hotel['hotel'].unique())"
      ]
    },
    {
      "cell_type": "markdown",
      "metadata": {
        "id": "X8DpydD3tWDY"
      },
      "source": [
        "* We observe that there are two type of hotel\n",
        "* Resort Hotel \n",
        "* City hotel"
      ]
    },
    {
      "cell_type": "code",
      "execution_count": null,
      "metadata": {
        "id": "34wGDVzaozUO",
        "colab": {
          "base_uri": "https://localhost:8080/"
        },
        "outputId": "993bf3f3-8e86-44da-d9be-41a1e714a653"
      },
      "outputs": [
        {
          "output_type": "stream",
          "name": "stdout",
          "text": [
            "[0 1]\n"
          ]
        }
      ],
      "source": [
        "print(df_hotel['is_canceled'].unique())"
      ]
    },
    {
      "cell_type": "markdown",
      "metadata": {
        "id": "RliYWH97uu_A"
      },
      "source": [
        "* here we notice :\n",
        "* if guest cancel the hotel = 1  ;\n",
        "* if not canceled = 0"
      ]
    },
    {
      "cell_type": "code",
      "execution_count": null,
      "metadata": {
        "id": "eMK6W8c9pAlY",
        "colab": {
          "base_uri": "https://localhost:8080/"
        },
        "outputId": "e80eee35-52a7-4aad-e5dc-0250e790c4e5"
      },
      "outputs": [
        {
          "output_type": "stream",
          "name": "stdout",
          "text": [
            "[342 737   7  13  14   0   9  85  75  23  35  68  18  37  12  72 127  78\n",
            "  48  60  77  99 118  95  96  69  45  40  15  36  43  70  16 107  47 113\n",
            "  90  50  93  76   3   1  10   5  17  51  71  63  62 101   2  81 368 364\n",
            " 324  79  21 109 102   4  98  92  26  73 115  86  52  29  30  33  32   8\n",
            " 100  44  80  97  64  39  34  27  82  94 110 111  84  66 104  28 258 112\n",
            "  65  67  55  88  54 292  83 105 280 394  24 103 366 249  22  91  11 108\n",
            " 106  31  87  41 304 117  59  53  58 116  42 321  38  56  49 317   6  57\n",
            "  19  25 315 123  46  89  61 312 299 130  74 298 119  20 286 136 129 124\n",
            " 327 131 460 140 114 139 122 137 126 120 128 135 150 143 151 132 125 157\n",
            " 147 138 156 164 346 159 160 161 333 381 149 154 297 163 314 155 323 340\n",
            " 356 142 328 144 336 248 302 175 344 382 146 170 166 338 167 310 148 165\n",
            " 172 171 145 121 178 305 173 152 354 347 158 185 349 183 352 177 200 192\n",
            " 361 207 174 330 134 350 334 283 153 197 133 241 193 235 194 261 260 216\n",
            " 169 209 238 215 141 189 187 223 284 214 202 211 168 230 203 188 232 709\n",
            " 219 162 196 190 259 228 176 250 201 186 199 180 206 205 224 222 182 210\n",
            " 275 212 229 218 208 191 181 179 246 255 226 288 253 252 262 236 256 234\n",
            " 254 468 213 237 198 195 239 263 265 274 217 220 307 221 233 257 227 276\n",
            " 225 264 311 277 204 290 266 270 294 319 282 251 322 291 269 240 271 184\n",
            " 231 268 247 273 300 301 267 244 306 293 309 272 242 295 285 243 308 398\n",
            " 303 245 424 279 331 281 339 434 357 325 329 278 332 343 345 360 348 367\n",
            " 353 373 374 406 400 326 379 399 316 341 320 385 355 363 358 296 422 390\n",
            " 335 370 376 375 397 289 542 403 383 384 359 393 337 362 365 435 386 378\n",
            " 313 351 287 471 462 411 450 318 372 371 454 532 445 389 388 407 443 437\n",
            " 451 391 405 412 419 420 426 433 440 429 418 447 461 605 457 475 464 482\n",
            " 626 489 496 503 510 517 524 531 538 545 552 559 566 573 580 587 594 601\n",
            " 608 615 622 629 396 410 395 423 408 409 448 465 387 414 476 479 467 490\n",
            " 493 478 504 507 458 518 521 377 444 380 463]\n"
          ]
        }
      ],
      "source": [
        "print(df_hotel['lead_time'].unique())"
      ]
    },
    {
      "cell_type": "markdown",
      "metadata": {
        "id": "-7_u0dj3v3je"
      },
      "source": [
        "* The Booking **Lead Time** is the number of days between the time a guest books their room and the time they are scheduled to arrive at the hotel."
      ]
    },
    {
      "cell_type": "code",
      "execution_count": null,
      "metadata": {
        "id": "xTencR3hpE8y",
        "colab": {
          "base_uri": "https://localhost:8080/"
        },
        "outputId": "58390de8-54c1-4c85-b34d-9657d8483c9c"
      },
      "outputs": [
        {
          "output_type": "stream",
          "name": "stdout",
          "text": [
            "[2015 2016 2017]\n"
          ]
        }
      ],
      "source": [
        "print(df_hotel['arrival_date_year'].unique())"
      ]
    },
    {
      "cell_type": "markdown",
      "metadata": {
        "id": "Ynb1Ffs_wg95"
      },
      "source": [
        "* **arrival_date_year** is Year of arrival of the Customer."
      ]
    },
    {
      "cell_type": "code",
      "execution_count": null,
      "metadata": {
        "id": "ChIpiFZ1pQkd",
        "colab": {
          "base_uri": "https://localhost:8080/"
        },
        "outputId": "a46505f8-ad25-4584-edca-14b124a546ba"
      },
      "outputs": [
        {
          "output_type": "stream",
          "name": "stdout",
          "text": [
            "['July' 'August' 'September' 'October' 'November' 'December' 'January'\n",
            " 'February' 'March' 'April' 'May' 'June']\n"
          ]
        }
      ],
      "source": [
        "print(df_hotel['arrival_date_month'].unique())"
      ]
    },
    {
      "cell_type": "markdown",
      "metadata": {
        "id": "xIVrDycdw_YH"
      },
      "source": [
        "* **arrival_date_month** is Months of arrival of the customer."
      ]
    },
    {
      "cell_type": "code",
      "execution_count": null,
      "metadata": {
        "id": "Zck1Gm4OpdBX",
        "colab": {
          "base_uri": "https://localhost:8080/"
        },
        "outputId": "e527de15-e0a1-41df-c8cc-433d16981e08"
      },
      "outputs": [
        {
          "output_type": "stream",
          "name": "stdout",
          "text": [
            "[27 28 29 30 31 32 33 34 35 36 37 38 39 40 41 42 43 44 45 46 47 48 49 50\n",
            " 51 52 53  1  2  3  4  5  6  7  8  9 10 11 12 13 14 15 16 17 18 19 20 21\n",
            " 22 23 24 25 26]\n"
          ]
        }
      ],
      "source": [
        "print(df_hotel['arrival_date_week_number'].unique())"
      ]
    },
    {
      "cell_type": "markdown",
      "metadata": {
        "id": "QxlPjseKyZRx"
      },
      "source": [
        "* **arrival_date_week_number** is weak of arrival of the customer."
      ]
    },
    {
      "cell_type": "code",
      "execution_count": null,
      "metadata": {
        "id": "8EjlYhJOqbwd",
        "colab": {
          "base_uri": "https://localhost:8080/"
        },
        "outputId": "170c0f13-daeb-4414-e4b8-e3764763d9be"
      },
      "outputs": [
        {
          "output_type": "stream",
          "name": "stdout",
          "text": [
            "['BB' 'FB' 'HB' 'SC' 'Undefined']\n"
          ]
        }
      ],
      "source": [
        "print(df_hotel['meal'].unique())"
      ]
    },
    {
      "cell_type": "markdown",
      "metadata": {
        "id": "186DQq4QVuzk"
      },
      "source": [
        "**Meal type**.\n",
        "\n",
        "* **BB** : Bed and Breakfast\n",
        "* **HB** : Half Board (Breakfast and Dinner normally)\n",
        "\n",
        "* **FB** : Full Board (Beakfast, Lunch and Dinner)\n",
        "* **SC** : Self-catering\n",
        "* **Undefined** : Rooms only packages without meals.\n",
        "\n"
      ]
    },
    {
      "cell_type": "code",
      "execution_count": null,
      "metadata": {
        "id": "ekus7oPvqjgQ",
        "colab": {
          "base_uri": "https://localhost:8080/"
        },
        "outputId": "2b9e02aa-ded2-4d68-90b4-db9fc5951898"
      },
      "outputs": [
        {
          "output_type": "stream",
          "name": "stdout",
          "text": [
            "['Direct' 'Corporate' 'Online TA' 'Offline TA/TO' 'Complementary' 'Groups'\n",
            " 'Undefined' 'Aviation']\n"
          ]
        }
      ],
      "source": [
        "print(df_hotel['market_segment'].unique())"
      ]
    },
    {
      "cell_type": "code",
      "execution_count": null,
      "metadata": {
        "id": "HJukvoOCX6We",
        "colab": {
          "base_uri": "https://localhost:8080/"
        },
        "outputId": "49cf4b0d-c7c3-4583-a9c9-f41a832d1fbf"
      },
      "outputs": [
        {
          "output_type": "stream",
          "name": "stdout",
          "text": [
            "['Direct' 'Corporate' 'TA/TO' 'Undefined' 'GDS']\n"
          ]
        }
      ],
      "source": [
        "print(df_hotel['distribution_channel'].unique())\n"
      ]
    },
    {
      "cell_type": "markdown",
      "metadata": {
        "id": "Q-5AiSfYX9BL"
      },
      "source": [
        "**Market segment** \n",
        "* We provides source of information through which customer booked\n",
        "* **TA** - \"Travel Agent\"\n",
        "* **TO** - \"Tour operators\"\n",
        "* **Direct** -\"Direct booking"
      ]
    },
    {
      "cell_type": "code",
      "execution_count": null,
      "metadata": {
        "id": "olPnMz7Kq2nx",
        "colab": {
          "base_uri": "https://localhost:8080/"
        },
        "outputId": "81814699-dfd8-4dd7-83d9-8c011a28f25c"
      },
      "outputs": [
        {
          "output_type": "stream",
          "name": "stdout",
          "text": [
            "[0 1]\n"
          ]
        }
      ],
      "source": [
        "print(df_hotel['is_repeated_guest'].unique())"
      ]
    },
    {
      "cell_type": "markdown",
      "metadata": {
        "id": "eG1_x85zY2bp"
      },
      "source": [
        "**customers are new or old.**\n",
        "* **1**----> New customer\n",
        "* **0**----> Old Customer"
      ]
    },
    {
      "cell_type": "code",
      "execution_count": null,
      "metadata": {
        "id": "UufgKtftrPP8",
        "colab": {
          "base_uri": "https://localhost:8080/"
        },
        "outputId": "8db2c1af-511c-42fa-ab06-55c14a0341cd"
      },
      "outputs": [
        {
          "output_type": "stream",
          "name": "stdout",
          "text": [
            "['C' 'A' 'D' 'E' 'G' 'F' 'H' 'L' 'P' 'B']\n"
          ]
        }
      ],
      "source": [
        "print(df_hotel['reserved_room_type'].unique())"
      ]
    },
    {
      "cell_type": "code",
      "execution_count": null,
      "metadata": {
        "id": "BevTAuvirWfB",
        "colab": {
          "base_uri": "https://localhost:8080/"
        },
        "outputId": "e2f2a881-3ad5-47c5-8615-e32cb637f321"
      },
      "outputs": [
        {
          "output_type": "stream",
          "name": "stdout",
          "text": [
            "['C' 'A' 'D' 'E' 'G' 'F' 'I' 'B' 'H' 'P' 'L' 'K']\n"
          ]
        }
      ],
      "source": [
        "print(df_hotel['assigned_room_type'].unique())"
      ]
    },
    {
      "cell_type": "code",
      "execution_count": null,
      "metadata": {
        "id": "d9yYfvNprcos",
        "colab": {
          "base_uri": "https://localhost:8080/"
        },
        "outputId": "118f6794-aa7c-4655-9526-441493a9b9d9"
      },
      "outputs": [
        {
          "output_type": "stream",
          "name": "stdout",
          "text": [
            "[ 3  4  0  1  2  5 17  6  8  7 10 16  9 13 12 20 14 15 11 21 18]\n"
          ]
        }
      ],
      "source": [
        "print(df_hotel['booking_changes'].unique())"
      ]
    },
    {
      "cell_type": "code",
      "execution_count": null,
      "metadata": {
        "id": "XRTmJyvArhGI",
        "colab": {
          "base_uri": "https://localhost:8080/"
        },
        "outputId": "85d21124-7cd4-4ec4-8ccf-49366ff0526f"
      },
      "outputs": [
        {
          "output_type": "stream",
          "name": "stdout",
          "text": [
            "['No Deposit' 'Refundable' 'Non Refund']\n"
          ]
        }
      ],
      "source": [
        "print(df_hotel['deposit_type'].unique())"
      ]
    },
    {
      "cell_type": "code",
      "execution_count": null,
      "metadata": {
        "id": "cwGnzTKArnuV",
        "colab": {
          "base_uri": "https://localhost:8080/"
        },
        "outputId": "b9b70598-83e6-496c-e710-e6464d597e0d"
      },
      "outputs": [
        {
          "output_type": "stream",
          "name": "stdout",
          "text": [
            "[ nan 304. 240. 303.  15. 241.   8. 250. 115.   5. 175. 134. 156. 243.\n",
            " 242.   3. 105.  40. 147. 306. 184.  96.   2. 127.  95. 146.   9. 177.\n",
            "   6. 143. 244. 149. 167. 300. 171. 305.  67. 196. 152. 142. 261. 104.\n",
            "  36.  26.  29. 258. 110.  71. 181.  88. 251. 275.  69. 248. 208. 256.\n",
            " 314. 126. 281. 273. 253. 185. 330. 334. 328. 326. 321. 324. 313.  38.\n",
            " 155.  68. 335. 308. 332.  94. 348. 310. 339. 375.  66. 327. 387. 298.\n",
            "  91. 245. 385. 257. 393. 168. 405. 249. 315.  75. 128. 307.  11. 436.\n",
            "   1. 201. 183. 223. 368. 336. 291. 464. 411. 481.  10. 154. 468. 410.\n",
            " 390. 440. 495. 492. 493. 434.  57. 531. 420. 483. 526. 472. 429.  16.\n",
            " 446.  34.  78. 139. 252. 270.  47. 114. 301. 193. 182. 135. 350. 195.\n",
            " 352. 355. 159. 363. 384. 360. 331. 367.  64. 406. 163. 414. 333. 427.\n",
            " 431. 430. 426. 438. 433. 418. 441. 282. 432.  72. 450. 180. 454. 455.\n",
            "  59. 451. 254. 358. 469. 165. 467. 510. 337. 476. 502. 527. 479. 508.\n",
            " 535. 302. 497. 187.  13.   7.  27.  14.  22.  17.  28.  42.  20.  19.\n",
            "  45.  37.  61.  39.  21.  24.  41.  50.  30.  54.  52.  12.  44.  31.\n",
            "  83.  32.  63.  60.  55.  56.  89.  87. 118.  86.  85. 210. 214. 129.\n",
            " 179. 138. 174. 170. 153.  93. 151. 119.  35. 173.  58.  53. 133.  79.\n",
            " 235. 192. 191. 236. 162. 215. 157. 287. 132. 234.  98.  77. 103. 107.\n",
            " 262. 220. 121. 205. 378.  23. 296. 290. 229.  33. 286. 276. 425. 484.\n",
            " 323. 403. 219. 394. 509. 111. 423.   4.  70.  82.  81.  74.  92.  99.\n",
            "  90. 112. 117. 106. 148. 158. 144. 211. 213. 216. 232. 150. 267. 227.\n",
            " 247. 278. 280. 285. 289. 269. 295. 265. 288. 122. 294. 325. 341. 344.\n",
            " 346. 359. 283. 364. 370. 371.  25. 141. 391. 397. 416. 404. 299. 197.\n",
            "  73. 354. 444. 408. 461. 388. 453. 459. 474. 475. 480. 449.]\n"
          ]
        }
      ],
      "source": [
        "print(df_hotel['agent'].unique())"
      ]
    },
    {
      "cell_type": "code",
      "execution_count": null,
      "metadata": {
        "id": "tSa5R5zcrrNU",
        "colab": {
          "base_uri": "https://localhost:8080/"
        },
        "outputId": "3286e573-6fd6-412f-de4f-730b3bc1570d"
      },
      "outputs": [
        {
          "output_type": "stream",
          "name": "stdout",
          "text": [
            "[ nan 110. 113. 270. 178. 240. 154. 144. 307. 268.  59. 204. 312. 318.\n",
            "  94. 174. 274. 195. 223. 317. 281. 118.  53. 286.  12.  47. 324. 342.\n",
            " 373. 371. 383.  86.  82. 218.  88.  31. 397. 392. 405. 331. 367.  20.\n",
            "  83. 416.  51. 395. 102.  34.  84. 360. 394. 457. 382. 461. 478. 386.\n",
            " 112. 486. 421.   9. 308. 135. 224. 504. 269. 356. 498. 390. 513. 203.\n",
            " 263. 477. 521. 169. 515. 445. 337. 251. 428. 292. 388. 130. 250. 355.\n",
            " 254. 543. 531. 528.  62. 120.  42.  81. 116. 530. 103.  39.  16.  92.\n",
            "  61. 501. 165. 291. 290.  43. 325. 192. 108. 200. 465. 287. 297. 490.\n",
            " 482. 207. 282. 437. 225. 329. 272.  28.  77. 338.  72. 246. 319. 146.\n",
            " 159. 380. 323. 511. 407. 278.  80. 403. 399.  14. 137. 343. 346. 347.\n",
            " 349. 289. 351. 353.  54.  99. 358. 361. 362. 366. 372. 365. 277. 109.\n",
            " 377. 379.  22. 378. 330. 364. 401. 232. 255. 384. 167. 212. 514. 391.\n",
            " 400. 376. 402. 396. 302. 398.   6. 370. 369. 409. 168. 104. 408. 413.\n",
            " 148.  10. 333. 419. 415. 424. 425. 423. 422. 435. 439. 442. 448. 443.\n",
            " 454. 444.  52. 459. 458. 456. 460. 447. 470. 466. 484. 184. 485.  32.\n",
            " 487. 491. 494. 193. 516. 496. 499.  29.  78. 520. 507. 506. 512. 126.\n",
            "  64. 242. 518. 523. 539. 534. 436. 525. 541.  40. 455. 410.  45.  38.\n",
            "  49.  48.  67.  68.  65.  91.  37.   8. 179. 209. 219. 221. 227. 153.\n",
            " 186. 253. 202. 216. 275. 233. 280. 309. 321.  93. 316.  85. 107. 350.\n",
            " 279. 334. 348. 150.  73. 385. 418. 197. 450. 452. 115.  46.  76.  96.\n",
            " 100. 105. 101. 122.  11. 139. 142. 127. 143. 140. 149. 163. 160. 180.\n",
            " 238. 183. 222. 185. 217. 215. 213. 237. 230. 234.  35. 245. 158. 258.\n",
            " 259. 260. 411. 257. 271.  18. 106. 210. 273.  71. 284. 301. 305. 293.\n",
            " 264. 311. 304. 313. 288. 320. 314. 332. 341. 352. 243. 368. 393. 132.\n",
            " 220. 412. 420. 426. 417. 429. 433. 446. 357. 479. 483. 489. 229. 481.\n",
            " 497. 451. 492.]\n"
          ]
        }
      ],
      "source": [
        "print(df_hotel['company'].unique())"
      ]
    },
    {
      "cell_type": "code",
      "execution_count": null,
      "metadata": {
        "id": "_UlJQoedruwC",
        "colab": {
          "base_uri": "https://localhost:8080/"
        },
        "outputId": "71139022-351a-4dfb-f39d-2706cc456d73"
      },
      "outputs": [
        {
          "output_type": "stream",
          "name": "stdout",
          "text": [
            "[  0  50  47  65 122  75 101 150 125  14  60  34 100  22 121  61  39   5\n",
            "   1   8 107  43  52   2  11 142 116  13  44  97  83   4 113  18  20 185\n",
            "  93 109   6  37 105 154  64  99  38  48  33  77  21  80  59  40  58  89\n",
            "  53  49  69  87  91  57 111  79  98  85  63  15   3  41 224  31  56 187\n",
            " 176  71  55  96 236 259 207 215 160 120  30  32  27  62  24 108 147 379\n",
            "  70  35 178 330 223 174 162 391  68 193  10  76  16  28   9 165  17  25\n",
            "  46   7  84 175 183  23 117  12  54  26  73  45  19  42  72  81  92  74\n",
            " 167  36]\n"
          ]
        }
      ],
      "source": [
        "print(df_hotel['days_in_waiting_list'].unique())"
      ]
    },
    {
      "cell_type": "code",
      "execution_count": null,
      "metadata": {
        "id": "cV7ghDKdr2Uy",
        "colab": {
          "base_uri": "https://localhost:8080/"
        },
        "outputId": "7c8d3f17-5624-42a0-c180-349946f09b68"
      },
      "outputs": [
        {
          "output_type": "stream",
          "name": "stdout",
          "text": [
            "['Transient' 'Contract' 'Transient-Party' 'Group']\n"
          ]
        }
      ],
      "source": [
        "print(df_hotel['customer_type'].unique())"
      ]
    },
    {
      "cell_type": "code",
      "execution_count": null,
      "metadata": {
        "id": "sPUNi0r7r-kc",
        "colab": {
          "base_uri": "https://localhost:8080/"
        },
        "outputId": "859e4f9e-a25b-4639-9074-32aa0743bdb5"
      },
      "outputs": [
        {
          "output_type": "stream",
          "name": "stdout",
          "text": [
            "[  0.    75.    98.   ... 266.75 209.25 157.71]\n"
          ]
        }
      ],
      "source": [
        "print(df_hotel['adr'].unique())"
      ]
    },
    {
      "cell_type": "code",
      "execution_count": null,
      "metadata": {
        "id": "dTsyguWjsRMN",
        "colab": {
          "base_uri": "https://localhost:8080/"
        },
        "outputId": "29f025b6-b301-4650-fb54-7398e92f799d"
      },
      "outputs": [
        {
          "output_type": "stream",
          "name": "stdout",
          "text": [
            "[0 1 2 8 3]\n"
          ]
        }
      ],
      "source": [
        "print(df_hotel['required_car_parking_spaces'].unique())"
      ]
    },
    {
      "cell_type": "code",
      "execution_count": null,
      "metadata": {
        "id": "7mo6VCEBsjLm",
        "colab": {
          "base_uri": "https://localhost:8080/"
        },
        "outputId": "e1abaefe-3b9f-4245-a49e-643cd8d8b1ad"
      },
      "outputs": [
        {
          "output_type": "stream",
          "name": "stdout",
          "text": [
            "[0 1 3 2 4 5]\n"
          ]
        }
      ],
      "source": [
        "print(df_hotel['total_of_special_requests'].unique())"
      ]
    },
    {
      "cell_type": "code",
      "execution_count": null,
      "metadata": {
        "id": "ayTGW_Vksvzg",
        "colab": {
          "base_uri": "https://localhost:8080/"
        },
        "outputId": "cb9ebce9-9a62-4283-d1cc-957afbbce8d5"
      },
      "outputs": [
        {
          "output_type": "stream",
          "name": "stdout",
          "text": [
            "['Check-Out' 'Canceled' 'No-Show']\n"
          ]
        }
      ],
      "source": [
        "print(df_hotel['reservation_status'].unique())"
      ]
    },
    {
      "cell_type": "markdown",
      "metadata": {
        "id": "kXdHnzNcNOq7"
      },
      "source": [
        "# ***Cleaning the data***\n",
        "\n",
        "* Identify duplicated rows and remove the same.\n",
        "* Calculate percentage values of null vallues of each columns.\n",
        "* Combine the null_value and null_value_percentage series in the dataframe using concat method.\n",
        "* Replace NaN values with 0 for heading Agent,Company\n",
        "* Replace NaN values with their mean values for heading children\n",
        "* Modify datatype from float to int64 for heading Agent,Company,Children\n",
        "* Replace NaN values with 'others' for heading Country.\n"
      ]
    },
    {
      "cell_type": "code",
      "execution_count": null,
      "metadata": {
        "id": "IzoaXjBY89AD",
        "colab": {
          "base_uri": "https://localhost:8080/",
          "height": 661
        },
        "outputId": "2484772c-3baf-4a51-c081-ab399c634961"
      },
      "outputs": [
        {
          "output_type": "execute_result",
          "data": {
            "text/plain": [
              "               hotel  is_canceled  lead_time  arrival_date_year  \\\n",
              "5       Resort Hotel            0         14               2015   \n",
              "22      Resort Hotel            0         72               2015   \n",
              "43      Resort Hotel            0         70               2015   \n",
              "138     Resort Hotel            1          5               2015   \n",
              "200     Resort Hotel            0          0               2015   \n",
              "...              ...          ...        ...                ...   \n",
              "119349    City Hotel            0        186               2017   \n",
              "119352    City Hotel            0         63               2017   \n",
              "119353    City Hotel            0         63               2017   \n",
              "119354    City Hotel            0         63               2017   \n",
              "119373    City Hotel            0        175               2017   \n",
              "\n",
              "       arrival_date_month  arrival_date_week_number  \\\n",
              "5                    July                        27   \n",
              "22                   July                        27   \n",
              "43                   July                        27   \n",
              "138                  July                        28   \n",
              "200                  July                        28   \n",
              "...                   ...                       ...   \n",
              "119349             August                        35   \n",
              "119352             August                        35   \n",
              "119353             August                        35   \n",
              "119354             August                        35   \n",
              "119373             August                        35   \n",
              "\n",
              "        arrival_date_day_of_month  stays_in_weekend_nights  \\\n",
              "5                               1                        0   \n",
              "22                              1                        2   \n",
              "43                              2                        2   \n",
              "138                             5                        1   \n",
              "200                             7                        0   \n",
              "...                           ...                      ...   \n",
              "119349                         31                        0   \n",
              "119352                         31                        0   \n",
              "119353                         31                        0   \n",
              "119354                         31                        0   \n",
              "119373                         31                        1   \n",
              "\n",
              "        stays_in_week_nights  adults  ...  deposit_type  agent company  \\\n",
              "5                          2       2  ...    No Deposit  240.0     NaN   \n",
              "22                         4       2  ...    No Deposit  250.0     NaN   \n",
              "43                         3       2  ...    No Deposit  250.0     NaN   \n",
              "138                        0       2  ...    No Deposit  240.0     NaN   \n",
              "200                        1       1  ...    No Deposit  240.0     NaN   \n",
              "...                      ...     ...  ...           ...    ...     ...   \n",
              "119349                     3       2  ...    No Deposit    9.0     NaN   \n",
              "119352                     3       3  ...    No Deposit    9.0     NaN   \n",
              "119353                     3       3  ...    No Deposit    9.0     NaN   \n",
              "119354                     3       3  ...    No Deposit    9.0     NaN   \n",
              "119373                     3       1  ...    No Deposit   42.0     NaN   \n",
              "\n",
              "       days_in_waiting_list    customer_type     adr  \\\n",
              "5                         0        Transient   98.00   \n",
              "22                        0        Transient   84.67   \n",
              "43                        0        Transient  137.00   \n",
              "138                       0        Transient   97.00   \n",
              "200                       0        Transient  109.80   \n",
              "...                     ...              ...     ...   \n",
              "119349                    0        Transient  126.00   \n",
              "119352                    0  Transient-Party  195.33   \n",
              "119353                    0  Transient-Party  195.33   \n",
              "119354                    0  Transient-Party  195.33   \n",
              "119373                    0        Transient   82.35   \n",
              "\n",
              "        required_car_parking_spaces  total_of_special_requests  \\\n",
              "5                                 0                          1   \n",
              "22                                0                          1   \n",
              "43                                0                          1   \n",
              "138                               0                          0   \n",
              "200                               0                          3   \n",
              "...                             ...                        ...   \n",
              "119349                            0                          2   \n",
              "119352                            0                          2   \n",
              "119353                            0                          2   \n",
              "119354                            0                          2   \n",
              "119373                            0                          1   \n",
              "\n",
              "        reservation_status reservation_status_date  \n",
              "5                Check-Out              2015-07-03  \n",
              "22               Check-Out              2015-07-07  \n",
              "43               Check-Out              2015-07-07  \n",
              "138               Canceled              2015-07-01  \n",
              "200              Check-Out              2015-07-08  \n",
              "...                    ...                     ...  \n",
              "119349           Check-Out              2017-09-03  \n",
              "119352           Check-Out              2017-09-03  \n",
              "119353           Check-Out              2017-09-03  \n",
              "119354           Check-Out              2017-09-03  \n",
              "119373           Check-Out              2017-09-04  \n",
              "\n",
              "[31994 rows x 32 columns]"
            ],
            "text/html": [
              "\n",
              "  <div id=\"df-ed726e2c-8820-4d1d-89ec-50f38f7561bb\">\n",
              "    <div class=\"colab-df-container\">\n",
              "      <div>\n",
              "<style scoped>\n",
              "    .dataframe tbody tr th:only-of-type {\n",
              "        vertical-align: middle;\n",
              "    }\n",
              "\n",
              "    .dataframe tbody tr th {\n",
              "        vertical-align: top;\n",
              "    }\n",
              "\n",
              "    .dataframe thead th {\n",
              "        text-align: right;\n",
              "    }\n",
              "</style>\n",
              "<table border=\"1\" class=\"dataframe\">\n",
              "  <thead>\n",
              "    <tr style=\"text-align: right;\">\n",
              "      <th></th>\n",
              "      <th>hotel</th>\n",
              "      <th>is_canceled</th>\n",
              "      <th>lead_time</th>\n",
              "      <th>arrival_date_year</th>\n",
              "      <th>arrival_date_month</th>\n",
              "      <th>arrival_date_week_number</th>\n",
              "      <th>arrival_date_day_of_month</th>\n",
              "      <th>stays_in_weekend_nights</th>\n",
              "      <th>stays_in_week_nights</th>\n",
              "      <th>adults</th>\n",
              "      <th>...</th>\n",
              "      <th>deposit_type</th>\n",
              "      <th>agent</th>\n",
              "      <th>company</th>\n",
              "      <th>days_in_waiting_list</th>\n",
              "      <th>customer_type</th>\n",
              "      <th>adr</th>\n",
              "      <th>required_car_parking_spaces</th>\n",
              "      <th>total_of_special_requests</th>\n",
              "      <th>reservation_status</th>\n",
              "      <th>reservation_status_date</th>\n",
              "    </tr>\n",
              "  </thead>\n",
              "  <tbody>\n",
              "    <tr>\n",
              "      <th>5</th>\n",
              "      <td>Resort Hotel</td>\n",
              "      <td>0</td>\n",
              "      <td>14</td>\n",
              "      <td>2015</td>\n",
              "      <td>July</td>\n",
              "      <td>27</td>\n",
              "      <td>1</td>\n",
              "      <td>0</td>\n",
              "      <td>2</td>\n",
              "      <td>2</td>\n",
              "      <td>...</td>\n",
              "      <td>No Deposit</td>\n",
              "      <td>240.0</td>\n",
              "      <td>NaN</td>\n",
              "      <td>0</td>\n",
              "      <td>Transient</td>\n",
              "      <td>98.00</td>\n",
              "      <td>0</td>\n",
              "      <td>1</td>\n",
              "      <td>Check-Out</td>\n",
              "      <td>2015-07-03</td>\n",
              "    </tr>\n",
              "    <tr>\n",
              "      <th>22</th>\n",
              "      <td>Resort Hotel</td>\n",
              "      <td>0</td>\n",
              "      <td>72</td>\n",
              "      <td>2015</td>\n",
              "      <td>July</td>\n",
              "      <td>27</td>\n",
              "      <td>1</td>\n",
              "      <td>2</td>\n",
              "      <td>4</td>\n",
              "      <td>2</td>\n",
              "      <td>...</td>\n",
              "      <td>No Deposit</td>\n",
              "      <td>250.0</td>\n",
              "      <td>NaN</td>\n",
              "      <td>0</td>\n",
              "      <td>Transient</td>\n",
              "      <td>84.67</td>\n",
              "      <td>0</td>\n",
              "      <td>1</td>\n",
              "      <td>Check-Out</td>\n",
              "      <td>2015-07-07</td>\n",
              "    </tr>\n",
              "    <tr>\n",
              "      <th>43</th>\n",
              "      <td>Resort Hotel</td>\n",
              "      <td>0</td>\n",
              "      <td>70</td>\n",
              "      <td>2015</td>\n",
              "      <td>July</td>\n",
              "      <td>27</td>\n",
              "      <td>2</td>\n",
              "      <td>2</td>\n",
              "      <td>3</td>\n",
              "      <td>2</td>\n",
              "      <td>...</td>\n",
              "      <td>No Deposit</td>\n",
              "      <td>250.0</td>\n",
              "      <td>NaN</td>\n",
              "      <td>0</td>\n",
              "      <td>Transient</td>\n",
              "      <td>137.00</td>\n",
              "      <td>0</td>\n",
              "      <td>1</td>\n",
              "      <td>Check-Out</td>\n",
              "      <td>2015-07-07</td>\n",
              "    </tr>\n",
              "    <tr>\n",
              "      <th>138</th>\n",
              "      <td>Resort Hotel</td>\n",
              "      <td>1</td>\n",
              "      <td>5</td>\n",
              "      <td>2015</td>\n",
              "      <td>July</td>\n",
              "      <td>28</td>\n",
              "      <td>5</td>\n",
              "      <td>1</td>\n",
              "      <td>0</td>\n",
              "      <td>2</td>\n",
              "      <td>...</td>\n",
              "      <td>No Deposit</td>\n",
              "      <td>240.0</td>\n",
              "      <td>NaN</td>\n",
              "      <td>0</td>\n",
              "      <td>Transient</td>\n",
              "      <td>97.00</td>\n",
              "      <td>0</td>\n",
              "      <td>0</td>\n",
              "      <td>Canceled</td>\n",
              "      <td>2015-07-01</td>\n",
              "    </tr>\n",
              "    <tr>\n",
              "      <th>200</th>\n",
              "      <td>Resort Hotel</td>\n",
              "      <td>0</td>\n",
              "      <td>0</td>\n",
              "      <td>2015</td>\n",
              "      <td>July</td>\n",
              "      <td>28</td>\n",
              "      <td>7</td>\n",
              "      <td>0</td>\n",
              "      <td>1</td>\n",
              "      <td>1</td>\n",
              "      <td>...</td>\n",
              "      <td>No Deposit</td>\n",
              "      <td>240.0</td>\n",
              "      <td>NaN</td>\n",
              "      <td>0</td>\n",
              "      <td>Transient</td>\n",
              "      <td>109.80</td>\n",
              "      <td>0</td>\n",
              "      <td>3</td>\n",
              "      <td>Check-Out</td>\n",
              "      <td>2015-07-08</td>\n",
              "    </tr>\n",
              "    <tr>\n",
              "      <th>...</th>\n",
              "      <td>...</td>\n",
              "      <td>...</td>\n",
              "      <td>...</td>\n",
              "      <td>...</td>\n",
              "      <td>...</td>\n",
              "      <td>...</td>\n",
              "      <td>...</td>\n",
              "      <td>...</td>\n",
              "      <td>...</td>\n",
              "      <td>...</td>\n",
              "      <td>...</td>\n",
              "      <td>...</td>\n",
              "      <td>...</td>\n",
              "      <td>...</td>\n",
              "      <td>...</td>\n",
              "      <td>...</td>\n",
              "      <td>...</td>\n",
              "      <td>...</td>\n",
              "      <td>...</td>\n",
              "      <td>...</td>\n",
              "      <td>...</td>\n",
              "    </tr>\n",
              "    <tr>\n",
              "      <th>119349</th>\n",
              "      <td>City Hotel</td>\n",
              "      <td>0</td>\n",
              "      <td>186</td>\n",
              "      <td>2017</td>\n",
              "      <td>August</td>\n",
              "      <td>35</td>\n",
              "      <td>31</td>\n",
              "      <td>0</td>\n",
              "      <td>3</td>\n",
              "      <td>2</td>\n",
              "      <td>...</td>\n",
              "      <td>No Deposit</td>\n",
              "      <td>9.0</td>\n",
              "      <td>NaN</td>\n",
              "      <td>0</td>\n",
              "      <td>Transient</td>\n",
              "      <td>126.00</td>\n",
              "      <td>0</td>\n",
              "      <td>2</td>\n",
              "      <td>Check-Out</td>\n",
              "      <td>2017-09-03</td>\n",
              "    </tr>\n",
              "    <tr>\n",
              "      <th>119352</th>\n",
              "      <td>City Hotel</td>\n",
              "      <td>0</td>\n",
              "      <td>63</td>\n",
              "      <td>2017</td>\n",
              "      <td>August</td>\n",
              "      <td>35</td>\n",
              "      <td>31</td>\n",
              "      <td>0</td>\n",
              "      <td>3</td>\n",
              "      <td>3</td>\n",
              "      <td>...</td>\n",
              "      <td>No Deposit</td>\n",
              "      <td>9.0</td>\n",
              "      <td>NaN</td>\n",
              "      <td>0</td>\n",
              "      <td>Transient-Party</td>\n",
              "      <td>195.33</td>\n",
              "      <td>0</td>\n",
              "      <td>2</td>\n",
              "      <td>Check-Out</td>\n",
              "      <td>2017-09-03</td>\n",
              "    </tr>\n",
              "    <tr>\n",
              "      <th>119353</th>\n",
              "      <td>City Hotel</td>\n",
              "      <td>0</td>\n",
              "      <td>63</td>\n",
              "      <td>2017</td>\n",
              "      <td>August</td>\n",
              "      <td>35</td>\n",
              "      <td>31</td>\n",
              "      <td>0</td>\n",
              "      <td>3</td>\n",
              "      <td>3</td>\n",
              "      <td>...</td>\n",
              "      <td>No Deposit</td>\n",
              "      <td>9.0</td>\n",
              "      <td>NaN</td>\n",
              "      <td>0</td>\n",
              "      <td>Transient-Party</td>\n",
              "      <td>195.33</td>\n",
              "      <td>0</td>\n",
              "      <td>2</td>\n",
              "      <td>Check-Out</td>\n",
              "      <td>2017-09-03</td>\n",
              "    </tr>\n",
              "    <tr>\n",
              "      <th>119354</th>\n",
              "      <td>City Hotel</td>\n",
              "      <td>0</td>\n",
              "      <td>63</td>\n",
              "      <td>2017</td>\n",
              "      <td>August</td>\n",
              "      <td>35</td>\n",
              "      <td>31</td>\n",
              "      <td>0</td>\n",
              "      <td>3</td>\n",
              "      <td>3</td>\n",
              "      <td>...</td>\n",
              "      <td>No Deposit</td>\n",
              "      <td>9.0</td>\n",
              "      <td>NaN</td>\n",
              "      <td>0</td>\n",
              "      <td>Transient-Party</td>\n",
              "      <td>195.33</td>\n",
              "      <td>0</td>\n",
              "      <td>2</td>\n",
              "      <td>Check-Out</td>\n",
              "      <td>2017-09-03</td>\n",
              "    </tr>\n",
              "    <tr>\n",
              "      <th>119373</th>\n",
              "      <td>City Hotel</td>\n",
              "      <td>0</td>\n",
              "      <td>175</td>\n",
              "      <td>2017</td>\n",
              "      <td>August</td>\n",
              "      <td>35</td>\n",
              "      <td>31</td>\n",
              "      <td>1</td>\n",
              "      <td>3</td>\n",
              "      <td>1</td>\n",
              "      <td>...</td>\n",
              "      <td>No Deposit</td>\n",
              "      <td>42.0</td>\n",
              "      <td>NaN</td>\n",
              "      <td>0</td>\n",
              "      <td>Transient</td>\n",
              "      <td>82.35</td>\n",
              "      <td>0</td>\n",
              "      <td>1</td>\n",
              "      <td>Check-Out</td>\n",
              "      <td>2017-09-04</td>\n",
              "    </tr>\n",
              "  </tbody>\n",
              "</table>\n",
              "<p>31994 rows × 32 columns</p>\n",
              "</div>\n",
              "      <button class=\"colab-df-convert\" onclick=\"convertToInteractive('df-ed726e2c-8820-4d1d-89ec-50f38f7561bb')\"\n",
              "              title=\"Convert this dataframe to an interactive table.\"\n",
              "              style=\"display:none;\">\n",
              "        \n",
              "  <svg xmlns=\"http://www.w3.org/2000/svg\" height=\"24px\"viewBox=\"0 0 24 24\"\n",
              "       width=\"24px\">\n",
              "    <path d=\"M0 0h24v24H0V0z\" fill=\"none\"/>\n",
              "    <path d=\"M18.56 5.44l.94 2.06.94-2.06 2.06-.94-2.06-.94-.94-2.06-.94 2.06-2.06.94zm-11 1L8.5 8.5l.94-2.06 2.06-.94-2.06-.94L8.5 2.5l-.94 2.06-2.06.94zm10 10l.94 2.06.94-2.06 2.06-.94-2.06-.94-.94-2.06-.94 2.06-2.06.94z\"/><path d=\"M17.41 7.96l-1.37-1.37c-.4-.4-.92-.59-1.43-.59-.52 0-1.04.2-1.43.59L10.3 9.45l-7.72 7.72c-.78.78-.78 2.05 0 2.83L4 21.41c.39.39.9.59 1.41.59.51 0 1.02-.2 1.41-.59l7.78-7.78 2.81-2.81c.8-.78.8-2.07 0-2.86zM5.41 20L4 18.59l7.72-7.72 1.47 1.35L5.41 20z\"/>\n",
              "  </svg>\n",
              "      </button>\n",
              "      \n",
              "  <style>\n",
              "    .colab-df-container {\n",
              "      display:flex;\n",
              "      flex-wrap:wrap;\n",
              "      gap: 12px;\n",
              "    }\n",
              "\n",
              "    .colab-df-convert {\n",
              "      background-color: #E8F0FE;\n",
              "      border: none;\n",
              "      border-radius: 50%;\n",
              "      cursor: pointer;\n",
              "      display: none;\n",
              "      fill: #1967D2;\n",
              "      height: 32px;\n",
              "      padding: 0 0 0 0;\n",
              "      width: 32px;\n",
              "    }\n",
              "\n",
              "    .colab-df-convert:hover {\n",
              "      background-color: #E2EBFA;\n",
              "      box-shadow: 0px 1px 2px rgba(60, 64, 67, 0.3), 0px 1px 3px 1px rgba(60, 64, 67, 0.15);\n",
              "      fill: #174EA6;\n",
              "    }\n",
              "\n",
              "    [theme=dark] .colab-df-convert {\n",
              "      background-color: #3B4455;\n",
              "      fill: #D2E3FC;\n",
              "    }\n",
              "\n",
              "    [theme=dark] .colab-df-convert:hover {\n",
              "      background-color: #434B5C;\n",
              "      box-shadow: 0px 1px 3px 1px rgba(0, 0, 0, 0.15);\n",
              "      filter: drop-shadow(0px 1px 2px rgba(0, 0, 0, 0.3));\n",
              "      fill: #FFFFFF;\n",
              "    }\n",
              "  </style>\n",
              "\n",
              "      <script>\n",
              "        const buttonEl =\n",
              "          document.querySelector('#df-ed726e2c-8820-4d1d-89ec-50f38f7561bb button.colab-df-convert');\n",
              "        buttonEl.style.display =\n",
              "          google.colab.kernel.accessAllowed ? 'block' : 'none';\n",
              "\n",
              "        async function convertToInteractive(key) {\n",
              "          const element = document.querySelector('#df-ed726e2c-8820-4d1d-89ec-50f38f7561bb');\n",
              "          const dataTable =\n",
              "            await google.colab.kernel.invokeFunction('convertToInteractive',\n",
              "                                                     [key], {});\n",
              "          if (!dataTable) return;\n",
              "\n",
              "          const docLinkHtml = 'Like what you see? Visit the ' +\n",
              "            '<a target=\"_blank\" href=https://colab.research.google.com/notebooks/data_table.ipynb>data table notebook</a>'\n",
              "            + ' to learn more about interactive tables.';\n",
              "          element.innerHTML = '';\n",
              "          dataTable['output_type'] = 'display_data';\n",
              "          await google.colab.output.renderOutput(dataTable, element);\n",
              "          const docLink = document.createElement('div');\n",
              "          docLink.innerHTML = docLinkHtml;\n",
              "          element.appendChild(docLink);\n",
              "        }\n",
              "      </script>\n",
              "    </div>\n",
              "  </div>\n",
              "  "
            ]
          },
          "metadata": {},
          "execution_count": 29
        }
      ],
      "source": [
        "#First we remove duplicacy rows.\n",
        "df_hotel[df_hotel.duplicated()]"
      ]
    },
    {
      "cell_type": "code",
      "execution_count": null,
      "metadata": {
        "id": "eislmTGm-0bV",
        "colab": {
          "base_uri": "https://localhost:8080/"
        },
        "outputId": "597463be-683d-4fc2-ec01-9c924800cf1a"
      },
      "outputs": [
        {
          "output_type": "execute_result",
          "data": {
            "text/plain": [
              "(87396, 32)"
            ]
          },
          "metadata": {},
          "execution_count": 30
        }
      ],
      "source": [
        "#Now remove duplicate rows.\n",
        "df_hotel = df_hotel.drop_duplicates()\n",
        "df_hotel.shape\n"
      ]
    },
    {
      "cell_type": "code",
      "execution_count": null,
      "metadata": {
        "id": "jZme8gJd4ySZ",
        "colab": {
          "base_uri": "https://localhost:8080/"
        },
        "outputId": "85ad15c9-8882-410c-f1ce-5e8329a3b0a8"
      },
      "outputs": [
        {
          "output_type": "stream",
          "name": "stdout",
          "text": [
            "hotel                                 0\n",
            "is_canceled                           0\n",
            "lead_time                             0\n",
            "arrival_date_year                     0\n",
            "arrival_date_month                    0\n",
            "arrival_date_week_number              0\n",
            "arrival_date_day_of_month             0\n",
            "stays_in_weekend_nights               0\n",
            "stays_in_week_nights                  0\n",
            "adults                                0\n",
            "children                              4\n",
            "babies                                0\n",
            "meal                                  0\n",
            "country                             452\n",
            "market_segment                        0\n",
            "distribution_channel                  0\n",
            "is_repeated_guest                     0\n",
            "previous_cancellations                0\n",
            "previous_bookings_not_canceled        0\n",
            "reserved_room_type                    0\n",
            "assigned_room_type                    0\n",
            "booking_changes                       0\n",
            "deposit_type                          0\n",
            "agent                             12193\n",
            "company                           82137\n",
            "days_in_waiting_list                  0\n",
            "customer_type                         0\n",
            "adr                                   0\n",
            "required_car_parking_spaces           0\n",
            "total_of_special_requests             0\n",
            "reservation_status                    0\n",
            "reservation_status_date               0\n",
            "dtype: int64\n"
          ]
        }
      ],
      "source": [
        "# Here we find null values in each column and sum them.\n",
        "null_value = df_hotel.isnull().sum()\n",
        "print(null_value)"
      ]
    },
    {
      "cell_type": "code",
      "execution_count": null,
      "metadata": {
        "id": "lQACL-yU6KMF",
        "colab": {
          "base_uri": "https://localhost:8080/"
        },
        "outputId": "9149db05-5149-4eba-e6cb-2cb55bf53293"
      },
      "outputs": [
        {
          "output_type": "stream",
          "name": "stdout",
          "text": [
            "hotel                              0.000000\n",
            "is_canceled                        0.000000\n",
            "lead_time                          0.000000\n",
            "arrival_date_year                  0.000000\n",
            "arrival_date_month                 0.000000\n",
            "arrival_date_week_number           0.000000\n",
            "arrival_date_day_of_month          0.000000\n",
            "stays_in_weekend_nights            0.000000\n",
            "stays_in_week_nights               0.000000\n",
            "adults                             0.000000\n",
            "children                           0.004577\n",
            "babies                             0.000000\n",
            "meal                               0.000000\n",
            "country                            0.517186\n",
            "market_segment                     0.000000\n",
            "distribution_channel               0.000000\n",
            "is_repeated_guest                  0.000000\n",
            "previous_cancellations             0.000000\n",
            "previous_bookings_not_canceled     0.000000\n",
            "reserved_room_type                 0.000000\n",
            "assigned_room_type                 0.000000\n",
            "booking_changes                    0.000000\n",
            "deposit_type                       0.000000\n",
            "agent                             13.951439\n",
            "company                           93.982562\n",
            "days_in_waiting_list               0.000000\n",
            "customer_type                      0.000000\n",
            "adr                                0.000000\n",
            "required_car_parking_spaces        0.000000\n",
            "total_of_special_requests          0.000000\n",
            "reservation_status                 0.000000\n",
            "reservation_status_date            0.000000\n",
            "dtype: float64\n"
          ]
        }
      ],
      "source": [
        "#Now we calculate percentage values of null vallues of each columns.\n",
        "null_value_percentage =(df_hotel.isnull().sum()/len(df_hotel))*100  #sum\n",
        "print(null_value_percentage)"
      ]
    },
    {
      "cell_type": "code",
      "execution_count": null,
      "metadata": {
        "id": "F54TFxuC_o7-",
        "colab": {
          "base_uri": "https://localhost:8080/"
        },
        "outputId": "b776f27e-f0a3-4188-a0d2-368dd588b404"
      },
      "outputs": [
        {
          "output_type": "stream",
          "name": "stdout",
          "text": [
            "                                null_value  null_value_percentage\n",
            "hotel                                    0               0.000000\n",
            "is_canceled                              0               0.000000\n",
            "lead_time                                0               0.000000\n",
            "arrival_date_year                        0               0.000000\n",
            "arrival_date_month                       0               0.000000\n",
            "arrival_date_week_number                 0               0.000000\n",
            "arrival_date_day_of_month                0               0.000000\n",
            "stays_in_weekend_nights                  0               0.000000\n",
            "stays_in_week_nights                     0               0.000000\n",
            "adults                                   0               0.000000\n",
            "children                                 4               0.004577\n",
            "babies                                   0               0.000000\n",
            "meal                                     0               0.000000\n",
            "country                                452               0.517186\n",
            "market_segment                           0               0.000000\n",
            "distribution_channel                     0               0.000000\n",
            "is_repeated_guest                        0               0.000000\n",
            "previous_cancellations                   0               0.000000\n",
            "previous_bookings_not_canceled           0               0.000000\n",
            "reserved_room_type                       0               0.000000\n",
            "assigned_room_type                       0               0.000000\n",
            "booking_changes                          0               0.000000\n",
            "deposit_type                             0               0.000000\n",
            "agent                                12193              13.951439\n",
            "company                              82137              93.982562\n",
            "days_in_waiting_list                     0               0.000000\n",
            "customer_type                            0               0.000000\n",
            "adr                                      0               0.000000\n",
            "required_car_parking_spaces              0               0.000000\n",
            "total_of_special_requests                0               0.000000\n",
            "reservation_status                       0               0.000000\n",
            "reservation_status_date                  0               0.000000\n"
          ]
        }
      ],
      "source": [
        "#We now combine the null_value and null_value_percentage series in the dataframe using concat method.\n",
        "concatenate_null =pd.concat([null_value,null_value_percentage],axis=1,keys=['null_value','null_value_percentage'])\n",
        "print(concatenate_null)"
      ]
    },
    {
      "cell_type": "markdown",
      "metadata": {
        "id": "zfzEzsGoFhAZ"
      },
      "source": [
        "* Here we observe that out of **32** columns, **4** columns have null values. These are the **children, country,agent, and company**. Since **company columns have a 93.98% maximum null value**, We drop company columns in the next step, and other null-value columns will be filled by the other values."
      ]
    },
    {
      "cell_type": "code",
      "execution_count": null,
      "metadata": {
        "id": "AbTQHgOJJmJ_",
        "colab": {
          "base_uri": "https://localhost:8080/",
          "height": 332
        },
        "outputId": "67bc871a-0fb3-41ce-e7e5-2955476f0a2f"
      },
      "outputs": [
        {
          "output_type": "execute_result",
          "data": {
            "text/plain": [
              "          hotel  is_canceled  lead_time  arrival_date_year arrival_date_month  \\\n",
              "0  Resort Hotel            0        342               2015               July   \n",
              "1  Resort Hotel            0        737               2015               July   \n",
              "2  Resort Hotel            0          7               2015               July   \n",
              "3  Resort Hotel            0         13               2015               July   \n",
              "4  Resort Hotel            0         14               2015               July   \n",
              "\n",
              "   arrival_date_week_number  arrival_date_day_of_month  \\\n",
              "0                        27                          1   \n",
              "1                        27                          1   \n",
              "2                        27                          1   \n",
              "3                        27                          1   \n",
              "4                        27                          1   \n",
              "\n",
              "   stays_in_weekend_nights  stays_in_week_nights  adults  ...  \\\n",
              "0                        0                     0       2  ...   \n",
              "1                        0                     0       2  ...   \n",
              "2                        0                     1       1  ...   \n",
              "3                        0                     1       1  ...   \n",
              "4                        0                     2       2  ...   \n",
              "\n",
              "   booking_changes  deposit_type  agent days_in_waiting_list customer_type  \\\n",
              "0                3    No Deposit    NaN                    0     Transient   \n",
              "1                4    No Deposit    NaN                    0     Transient   \n",
              "2                0    No Deposit    NaN                    0     Transient   \n",
              "3                0    No Deposit  304.0                    0     Transient   \n",
              "4                0    No Deposit  240.0                    0     Transient   \n",
              "\n",
              "    adr  required_car_parking_spaces  total_of_special_requests  \\\n",
              "0   0.0                            0                          0   \n",
              "1   0.0                            0                          0   \n",
              "2  75.0                            0                          0   \n",
              "3  75.0                            0                          0   \n",
              "4  98.0                            0                          1   \n",
              "\n",
              "   reservation_status reservation_status_date  \n",
              "0           Check-Out              2015-07-01  \n",
              "1           Check-Out              2015-07-01  \n",
              "2           Check-Out              2015-07-02  \n",
              "3           Check-Out              2015-07-02  \n",
              "4           Check-Out              2015-07-03  \n",
              "\n",
              "[5 rows x 31 columns]"
            ],
            "text/html": [
              "\n",
              "  <div id=\"df-3cd96598-0e2a-4d4a-8127-be0a1d64e91c\">\n",
              "    <div class=\"colab-df-container\">\n",
              "      <div>\n",
              "<style scoped>\n",
              "    .dataframe tbody tr th:only-of-type {\n",
              "        vertical-align: middle;\n",
              "    }\n",
              "\n",
              "    .dataframe tbody tr th {\n",
              "        vertical-align: top;\n",
              "    }\n",
              "\n",
              "    .dataframe thead th {\n",
              "        text-align: right;\n",
              "    }\n",
              "</style>\n",
              "<table border=\"1\" class=\"dataframe\">\n",
              "  <thead>\n",
              "    <tr style=\"text-align: right;\">\n",
              "      <th></th>\n",
              "      <th>hotel</th>\n",
              "      <th>is_canceled</th>\n",
              "      <th>lead_time</th>\n",
              "      <th>arrival_date_year</th>\n",
              "      <th>arrival_date_month</th>\n",
              "      <th>arrival_date_week_number</th>\n",
              "      <th>arrival_date_day_of_month</th>\n",
              "      <th>stays_in_weekend_nights</th>\n",
              "      <th>stays_in_week_nights</th>\n",
              "      <th>adults</th>\n",
              "      <th>...</th>\n",
              "      <th>booking_changes</th>\n",
              "      <th>deposit_type</th>\n",
              "      <th>agent</th>\n",
              "      <th>days_in_waiting_list</th>\n",
              "      <th>customer_type</th>\n",
              "      <th>adr</th>\n",
              "      <th>required_car_parking_spaces</th>\n",
              "      <th>total_of_special_requests</th>\n",
              "      <th>reservation_status</th>\n",
              "      <th>reservation_status_date</th>\n",
              "    </tr>\n",
              "  </thead>\n",
              "  <tbody>\n",
              "    <tr>\n",
              "      <th>0</th>\n",
              "      <td>Resort Hotel</td>\n",
              "      <td>0</td>\n",
              "      <td>342</td>\n",
              "      <td>2015</td>\n",
              "      <td>July</td>\n",
              "      <td>27</td>\n",
              "      <td>1</td>\n",
              "      <td>0</td>\n",
              "      <td>0</td>\n",
              "      <td>2</td>\n",
              "      <td>...</td>\n",
              "      <td>3</td>\n",
              "      <td>No Deposit</td>\n",
              "      <td>NaN</td>\n",
              "      <td>0</td>\n",
              "      <td>Transient</td>\n",
              "      <td>0.0</td>\n",
              "      <td>0</td>\n",
              "      <td>0</td>\n",
              "      <td>Check-Out</td>\n",
              "      <td>2015-07-01</td>\n",
              "    </tr>\n",
              "    <tr>\n",
              "      <th>1</th>\n",
              "      <td>Resort Hotel</td>\n",
              "      <td>0</td>\n",
              "      <td>737</td>\n",
              "      <td>2015</td>\n",
              "      <td>July</td>\n",
              "      <td>27</td>\n",
              "      <td>1</td>\n",
              "      <td>0</td>\n",
              "      <td>0</td>\n",
              "      <td>2</td>\n",
              "      <td>...</td>\n",
              "      <td>4</td>\n",
              "      <td>No Deposit</td>\n",
              "      <td>NaN</td>\n",
              "      <td>0</td>\n",
              "      <td>Transient</td>\n",
              "      <td>0.0</td>\n",
              "      <td>0</td>\n",
              "      <td>0</td>\n",
              "      <td>Check-Out</td>\n",
              "      <td>2015-07-01</td>\n",
              "    </tr>\n",
              "    <tr>\n",
              "      <th>2</th>\n",
              "      <td>Resort Hotel</td>\n",
              "      <td>0</td>\n",
              "      <td>7</td>\n",
              "      <td>2015</td>\n",
              "      <td>July</td>\n",
              "      <td>27</td>\n",
              "      <td>1</td>\n",
              "      <td>0</td>\n",
              "      <td>1</td>\n",
              "      <td>1</td>\n",
              "      <td>...</td>\n",
              "      <td>0</td>\n",
              "      <td>No Deposit</td>\n",
              "      <td>NaN</td>\n",
              "      <td>0</td>\n",
              "      <td>Transient</td>\n",
              "      <td>75.0</td>\n",
              "      <td>0</td>\n",
              "      <td>0</td>\n",
              "      <td>Check-Out</td>\n",
              "      <td>2015-07-02</td>\n",
              "    </tr>\n",
              "    <tr>\n",
              "      <th>3</th>\n",
              "      <td>Resort Hotel</td>\n",
              "      <td>0</td>\n",
              "      <td>13</td>\n",
              "      <td>2015</td>\n",
              "      <td>July</td>\n",
              "      <td>27</td>\n",
              "      <td>1</td>\n",
              "      <td>0</td>\n",
              "      <td>1</td>\n",
              "      <td>1</td>\n",
              "      <td>...</td>\n",
              "      <td>0</td>\n",
              "      <td>No Deposit</td>\n",
              "      <td>304.0</td>\n",
              "      <td>0</td>\n",
              "      <td>Transient</td>\n",
              "      <td>75.0</td>\n",
              "      <td>0</td>\n",
              "      <td>0</td>\n",
              "      <td>Check-Out</td>\n",
              "      <td>2015-07-02</td>\n",
              "    </tr>\n",
              "    <tr>\n",
              "      <th>4</th>\n",
              "      <td>Resort Hotel</td>\n",
              "      <td>0</td>\n",
              "      <td>14</td>\n",
              "      <td>2015</td>\n",
              "      <td>July</td>\n",
              "      <td>27</td>\n",
              "      <td>1</td>\n",
              "      <td>0</td>\n",
              "      <td>2</td>\n",
              "      <td>2</td>\n",
              "      <td>...</td>\n",
              "      <td>0</td>\n",
              "      <td>No Deposit</td>\n",
              "      <td>240.0</td>\n",
              "      <td>0</td>\n",
              "      <td>Transient</td>\n",
              "      <td>98.0</td>\n",
              "      <td>0</td>\n",
              "      <td>1</td>\n",
              "      <td>Check-Out</td>\n",
              "      <td>2015-07-03</td>\n",
              "    </tr>\n",
              "  </tbody>\n",
              "</table>\n",
              "<p>5 rows × 31 columns</p>\n",
              "</div>\n",
              "      <button class=\"colab-df-convert\" onclick=\"convertToInteractive('df-3cd96598-0e2a-4d4a-8127-be0a1d64e91c')\"\n",
              "              title=\"Convert this dataframe to an interactive table.\"\n",
              "              style=\"display:none;\">\n",
              "        \n",
              "  <svg xmlns=\"http://www.w3.org/2000/svg\" height=\"24px\"viewBox=\"0 0 24 24\"\n",
              "       width=\"24px\">\n",
              "    <path d=\"M0 0h24v24H0V0z\" fill=\"none\"/>\n",
              "    <path d=\"M18.56 5.44l.94 2.06.94-2.06 2.06-.94-2.06-.94-.94-2.06-.94 2.06-2.06.94zm-11 1L8.5 8.5l.94-2.06 2.06-.94-2.06-.94L8.5 2.5l-.94 2.06-2.06.94zm10 10l.94 2.06.94-2.06 2.06-.94-2.06-.94-.94-2.06-.94 2.06-2.06.94z\"/><path d=\"M17.41 7.96l-1.37-1.37c-.4-.4-.92-.59-1.43-.59-.52 0-1.04.2-1.43.59L10.3 9.45l-7.72 7.72c-.78.78-.78 2.05 0 2.83L4 21.41c.39.39.9.59 1.41.59.51 0 1.02-.2 1.41-.59l7.78-7.78 2.81-2.81c.8-.78.8-2.07 0-2.86zM5.41 20L4 18.59l7.72-7.72 1.47 1.35L5.41 20z\"/>\n",
              "  </svg>\n",
              "      </button>\n",
              "      \n",
              "  <style>\n",
              "    .colab-df-container {\n",
              "      display:flex;\n",
              "      flex-wrap:wrap;\n",
              "      gap: 12px;\n",
              "    }\n",
              "\n",
              "    .colab-df-convert {\n",
              "      background-color: #E8F0FE;\n",
              "      border: none;\n",
              "      border-radius: 50%;\n",
              "      cursor: pointer;\n",
              "      display: none;\n",
              "      fill: #1967D2;\n",
              "      height: 32px;\n",
              "      padding: 0 0 0 0;\n",
              "      width: 32px;\n",
              "    }\n",
              "\n",
              "    .colab-df-convert:hover {\n",
              "      background-color: #E2EBFA;\n",
              "      box-shadow: 0px 1px 2px rgba(60, 64, 67, 0.3), 0px 1px 3px 1px rgba(60, 64, 67, 0.15);\n",
              "      fill: #174EA6;\n",
              "    }\n",
              "\n",
              "    [theme=dark] .colab-df-convert {\n",
              "      background-color: #3B4455;\n",
              "      fill: #D2E3FC;\n",
              "    }\n",
              "\n",
              "    [theme=dark] .colab-df-convert:hover {\n",
              "      background-color: #434B5C;\n",
              "      box-shadow: 0px 1px 3px 1px rgba(0, 0, 0, 0.15);\n",
              "      filter: drop-shadow(0px 1px 2px rgba(0, 0, 0, 0.3));\n",
              "      fill: #FFFFFF;\n",
              "    }\n",
              "  </style>\n",
              "\n",
              "      <script>\n",
              "        const buttonEl =\n",
              "          document.querySelector('#df-3cd96598-0e2a-4d4a-8127-be0a1d64e91c button.colab-df-convert');\n",
              "        buttonEl.style.display =\n",
              "          google.colab.kernel.accessAllowed ? 'block' : 'none';\n",
              "\n",
              "        async function convertToInteractive(key) {\n",
              "          const element = document.querySelector('#df-3cd96598-0e2a-4d4a-8127-be0a1d64e91c');\n",
              "          const dataTable =\n",
              "            await google.colab.kernel.invokeFunction('convertToInteractive',\n",
              "                                                     [key], {});\n",
              "          if (!dataTable) return;\n",
              "\n",
              "          const docLinkHtml = 'Like what you see? Visit the ' +\n",
              "            '<a target=\"_blank\" href=https://colab.research.google.com/notebooks/data_table.ipynb>data table notebook</a>'\n",
              "            + ' to learn more about interactive tables.';\n",
              "          element.innerHTML = '';\n",
              "          dataTable['output_type'] = 'display_data';\n",
              "          await google.colab.output.renderOutput(dataTable, element);\n",
              "          const docLink = document.createElement('div');\n",
              "          docLink.innerHTML = docLinkHtml;\n",
              "          element.appendChild(docLink);\n",
              "        }\n",
              "      </script>\n",
              "    </div>\n",
              "  </div>\n",
              "  "
            ]
          },
          "metadata": {},
          "execution_count": 34
        },
        {
          "output_type": "stream",
          "name": "stdout",
          "text": [
            "Warning: Total number of columns (31) exceeds max_columns (20) limiting to first (20) columns.\n"
          ]
        }
      ],
      "source": [
        "#droping Company Columns\n",
        "df_hotel=df_hotel.drop('company',axis=1)\n",
        "df_hotel.head()\n"
      ]
    },
    {
      "cell_type": "markdown",
      "metadata": {
        "id": "vtXg1FSKKyHE"
      },
      "source": [
        "* Now there are **31 Columns** left , after dropping the company column.\n",
        "* In the Next Line **we filling null values of children,country and agent**."
      ]
    },
    {
      "cell_type": "code",
      "execution_count": null,
      "metadata": {
        "id": "80e0Ak8CLSNC",
        "colab": {
          "base_uri": "https://localhost:8080/"
        },
        "outputId": "41f1838a-7fc4-4def-ae17-73167d0ade76"
      },
      "outputs": [
        {
          "output_type": "execute_result",
          "data": {
            "text/plain": [
              "True     87392\n",
              "False        4\n",
              "Name: children, dtype: int64"
            ]
          },
          "metadata": {},
          "execution_count": 35
        }
      ],
      "source": [
        "#Check how many null values are there in children column.\n",
        "df_hotel['children'].notnull().value_counts()"
      ]
    },
    {
      "cell_type": "code",
      "execution_count": null,
      "metadata": {
        "id": "k0dolHF8OLXO"
      },
      "outputs": [],
      "source": [
        "#there are 4 missing values of children i fill them by there mean\n",
        "df_hotel[\"children\"]=df_hotel[\"children\"].fillna(df_hotel[\"children\"].mean())\n",
        "\n"
      ]
    },
    {
      "cell_type": "code",
      "execution_count": null,
      "metadata": {
        "colab": {
          "base_uri": "https://localhost:8080/"
        },
        "id": "NEg94HDMPH3L",
        "outputId": "9588971d-bb73-4d46-c68d-114faf32827d"
      },
      "outputs": [
        {
          "output_type": "execute_result",
          "data": {
            "text/plain": [
              "True    87396\n",
              "Name: children, dtype: int64"
            ]
          },
          "metadata": {},
          "execution_count": 37
        }
      ],
      "source": [
        "#Recheck \n",
        "df_hotel['children'].notnull().value_counts()"
      ]
    },
    {
      "cell_type": "code",
      "execution_count": null,
      "metadata": {
        "colab": {
          "base_uri": "https://localhost:8080/"
        },
        "id": "KgGhGv4hPPwW",
        "outputId": "3630eae1-75a2-4148-c771-453ebe4407d1"
      },
      "outputs": [
        {
          "output_type": "execute_result",
          "data": {
            "text/plain": [
              "True     86944\n",
              "False      452\n",
              "Name: country, dtype: int64"
            ]
          },
          "metadata": {},
          "execution_count": 38
        }
      ],
      "source": [
        "#Check how many null values are there in country column.\n",
        "df_hotel['country'].notnull().value_counts()"
      ]
    },
    {
      "cell_type": "code",
      "execution_count": null,
      "metadata": {
        "id": "1ZCDhBAxPcLF"
      },
      "outputs": [],
      "source": [
        "#there are 488 missing values of children i fill them by 'Other'\n",
        "df_hotel['country'] = df_hotel['country'].fillna('other',axis=0)"
      ]
    },
    {
      "cell_type": "code",
      "execution_count": null,
      "metadata": {
        "colab": {
          "base_uri": "https://localhost:8080/"
        },
        "id": "XG-2YLCNPoEn",
        "outputId": "2dcc796c-e136-4d32-b6cd-81cb34883160"
      },
      "outputs": [
        {
          "output_type": "execute_result",
          "data": {
            "text/plain": [
              "True    87396\n",
              "Name: country, dtype: int64"
            ]
          },
          "metadata": {},
          "execution_count": 40
        }
      ],
      "source": [
        "#Recheck\n",
        "df_hotel['country'].notnull().value_counts()"
      ]
    },
    {
      "cell_type": "code",
      "execution_count": null,
      "metadata": {
        "colab": {
          "base_uri": "https://localhost:8080/"
        },
        "id": "yOS2dxckPqi8",
        "outputId": "0a79113a-ce0a-4995-9cb6-d0f10f281038"
      },
      "outputs": [
        {
          "output_type": "execute_result",
          "data": {
            "text/plain": [
              "True     75203\n",
              "False    12193\n",
              "Name: agent, dtype: int64"
            ]
          },
          "metadata": {},
          "execution_count": 41
        }
      ],
      "source": [
        "#Check how many null values are there in agent column.\n",
        "df_hotel['agent'].notnull().value_counts()"
      ]
    },
    {
      "cell_type": "code",
      "execution_count": null,
      "metadata": {
        "id": "FHRBwn1xPuuS"
      },
      "outputs": [],
      "source": [
        "#there are 16340 missing values of children in fill them by \n",
        "df_hotel['agent'] = df_hotel['agent'].fillna(0,axis=0)"
      ]
    },
    {
      "cell_type": "code",
      "execution_count": null,
      "metadata": {
        "colab": {
          "base_uri": "https://localhost:8080/"
        },
        "id": "9HHqJ7VfS9RA",
        "outputId": "cd092423-8c50-4619-b3be-b7527bc5154f"
      },
      "outputs": [
        {
          "output_type": "execute_result",
          "data": {
            "text/plain": [
              "True    87396\n",
              "Name: agent, dtype: int64"
            ]
          },
          "metadata": {},
          "execution_count": 43
        }
      ],
      "source": [
        "#Recheck\n",
        "df_hotel['agent'].notnull().value_counts()"
      ]
    },
    {
      "cell_type": "markdown",
      "metadata": {
        "id": "bmG9WdGZplN1"
      },
      "source": [
        "# **Eda on Problems** "
      ]
    },
    {
      "cell_type": "markdown",
      "metadata": {
        "id": "7dpO29r8k5cd"
      },
      "source": [
        "# hotel type analysis\n",
        "* Q1.type of hotel\n",
        "* Q2.most high booking  or %"
      ]
    },
    {
      "cell_type": "code",
      "execution_count": null,
      "metadata": {
        "colab": {
          "base_uri": "https://localhost:8080/"
        },
        "id": "Cw-2_3ewlBLI",
        "outputId": "013689a8-2ed3-4df3-99d7-64283e433c08"
      },
      "outputs": [
        {
          "output_type": "execute_result",
          "data": {
            "text/plain": [
              "array(['Resort Hotel', 'City Hotel'], dtype=object)"
            ]
          },
          "metadata": {},
          "execution_count": 103
        }
      ],
      "source": [
        "#Answer 1\n",
        "df_hotel['hotel'].unique()"
      ]
    },
    {
      "cell_type": "code",
      "execution_count": null,
      "metadata": {
        "colab": {
          "base_uri": "https://localhost:8080/",
          "height": 112
        },
        "id": "u2PSgHwkmqgI",
        "outputId": "db79c942-71ab-4140-8d01-03f2033bc207"
      },
      "outputs": [
        {
          "output_type": "execute_result",
          "data": {
            "text/plain": [
              "   country name  number of guest\n",
              "0    City Hotel            53428\n",
              "1  Resort Hotel            33968"
            ],
            "text/html": [
              "\n",
              "  <div id=\"df-9c9d133a-b58b-4016-be80-dd35d34a9815\">\n",
              "    <div class=\"colab-df-container\">\n",
              "      <div>\n",
              "<style scoped>\n",
              "    .dataframe tbody tr th:only-of-type {\n",
              "        vertical-align: middle;\n",
              "    }\n",
              "\n",
              "    .dataframe tbody tr th {\n",
              "        vertical-align: top;\n",
              "    }\n",
              "\n",
              "    .dataframe thead th {\n",
              "        text-align: right;\n",
              "    }\n",
              "</style>\n",
              "<table border=\"1\" class=\"dataframe\">\n",
              "  <thead>\n",
              "    <tr style=\"text-align: right;\">\n",
              "      <th></th>\n",
              "      <th>country name</th>\n",
              "      <th>number of guest</th>\n",
              "    </tr>\n",
              "  </thead>\n",
              "  <tbody>\n",
              "    <tr>\n",
              "      <th>0</th>\n",
              "      <td>City Hotel</td>\n",
              "      <td>53428</td>\n",
              "    </tr>\n",
              "    <tr>\n",
              "      <th>1</th>\n",
              "      <td>Resort Hotel</td>\n",
              "      <td>33968</td>\n",
              "    </tr>\n",
              "  </tbody>\n",
              "</table>\n",
              "</div>\n",
              "      <button class=\"colab-df-convert\" onclick=\"convertToInteractive('df-9c9d133a-b58b-4016-be80-dd35d34a9815')\"\n",
              "              title=\"Convert this dataframe to an interactive table.\"\n",
              "              style=\"display:none;\">\n",
              "        \n",
              "  <svg xmlns=\"http://www.w3.org/2000/svg\" height=\"24px\"viewBox=\"0 0 24 24\"\n",
              "       width=\"24px\">\n",
              "    <path d=\"M0 0h24v24H0V0z\" fill=\"none\"/>\n",
              "    <path d=\"M18.56 5.44l.94 2.06.94-2.06 2.06-.94-2.06-.94-.94-2.06-.94 2.06-2.06.94zm-11 1L8.5 8.5l.94-2.06 2.06-.94-2.06-.94L8.5 2.5l-.94 2.06-2.06.94zm10 10l.94 2.06.94-2.06 2.06-.94-2.06-.94-.94-2.06-.94 2.06-2.06.94z\"/><path d=\"M17.41 7.96l-1.37-1.37c-.4-.4-.92-.59-1.43-.59-.52 0-1.04.2-1.43.59L10.3 9.45l-7.72 7.72c-.78.78-.78 2.05 0 2.83L4 21.41c.39.39.9.59 1.41.59.51 0 1.02-.2 1.41-.59l7.78-7.78 2.81-2.81c.8-.78.8-2.07 0-2.86zM5.41 20L4 18.59l7.72-7.72 1.47 1.35L5.41 20z\"/>\n",
              "  </svg>\n",
              "      </button>\n",
              "      \n",
              "  <style>\n",
              "    .colab-df-container {\n",
              "      display:flex;\n",
              "      flex-wrap:wrap;\n",
              "      gap: 12px;\n",
              "    }\n",
              "\n",
              "    .colab-df-convert {\n",
              "      background-color: #E8F0FE;\n",
              "      border: none;\n",
              "      border-radius: 50%;\n",
              "      cursor: pointer;\n",
              "      display: none;\n",
              "      fill: #1967D2;\n",
              "      height: 32px;\n",
              "      padding: 0 0 0 0;\n",
              "      width: 32px;\n",
              "    }\n",
              "\n",
              "    .colab-df-convert:hover {\n",
              "      background-color: #E2EBFA;\n",
              "      box-shadow: 0px 1px 2px rgba(60, 64, 67, 0.3), 0px 1px 3px 1px rgba(60, 64, 67, 0.15);\n",
              "      fill: #174EA6;\n",
              "    }\n",
              "\n",
              "    [theme=dark] .colab-df-convert {\n",
              "      background-color: #3B4455;\n",
              "      fill: #D2E3FC;\n",
              "    }\n",
              "\n",
              "    [theme=dark] .colab-df-convert:hover {\n",
              "      background-color: #434B5C;\n",
              "      box-shadow: 0px 1px 3px 1px rgba(0, 0, 0, 0.15);\n",
              "      filter: drop-shadow(0px 1px 2px rgba(0, 0, 0, 0.3));\n",
              "      fill: #FFFFFF;\n",
              "    }\n",
              "  </style>\n",
              "\n",
              "      <script>\n",
              "        const buttonEl =\n",
              "          document.querySelector('#df-9c9d133a-b58b-4016-be80-dd35d34a9815 button.colab-df-convert');\n",
              "        buttonEl.style.display =\n",
              "          google.colab.kernel.accessAllowed ? 'block' : 'none';\n",
              "\n",
              "        async function convertToInteractive(key) {\n",
              "          const element = document.querySelector('#df-9c9d133a-b58b-4016-be80-dd35d34a9815');\n",
              "          const dataTable =\n",
              "            await google.colab.kernel.invokeFunction('convertToInteractive',\n",
              "                                                     [key], {});\n",
              "          if (!dataTable) return;\n",
              "\n",
              "          const docLinkHtml = 'Like what you see? Visit the ' +\n",
              "            '<a target=\"_blank\" href=https://colab.research.google.com/notebooks/data_table.ipynb>data table notebook</a>'\n",
              "            + ' to learn more about interactive tables.';\n",
              "          element.innerHTML = '';\n",
              "          dataTable['output_type'] = 'display_data';\n",
              "          await google.colab.output.renderOutput(dataTable, element);\n",
              "          const docLink = document.createElement('div');\n",
              "          docLink.innerHTML = docLinkHtml;\n",
              "          element.appendChild(docLink);\n",
              "        }\n",
              "      </script>\n",
              "    </div>\n",
              "  </div>\n",
              "  "
            ]
          },
          "metadata": {},
          "execution_count": 59
        }
      ],
      "source": [
        "#Answer 2\n",
        "hotelbook = df_hotel['hotel'].value_counts().reset_index()\n",
        "hotelbook.columns=['Hotel type','Number of booking']\n",
        "hotelbook"
      ]
    },
    {
      "cell_type": "code",
      "execution_count": null,
      "metadata": {
        "colab": {
          "base_uri": "https://localhost:8080/",
          "height": 309
        },
        "id": "pMwOKA5zn135",
        "outputId": "3ae53714-f657-4cf7-945f-233208fd7c54"
      },
      "outputs": [
        {
          "output_type": "display_data",
          "data": {
            "text/plain": [
              "<Figure size 432x288 with 1 Axes>"
            ],
            "image/png": "[encoded data removed]"
          },
          "metadata": {}
        }
      ],
      "source": [
        "#Graph\n",
        "plt.pie(hotelbook[\"Number of booking\"],autopct=\"%1.1f%%\",radius=1.5,explode=[0.08]*2)\n",
        "plt.legend(labels=hotelbook['Hotel type'].value_counts().index.tolist(),loc=(1.1,0.65))\n",
        "plt.show()\n"
      ]
    },
    {
      "cell_type": "markdown",
      "metadata": {
        "id": "r4XfKQyQiB_1"
      },
      "source": [
        "# Find peak season\n",
        "* Q1.number of booking months wise"
      ]
    },
    {
      "cell_type": "code",
      "execution_count": null,
      "metadata": {
        "colab": {
          "base_uri": "https://localhost:8080/",
          "height": 394
        },
        "id": "6C3m81oskXfn",
        "outputId": "35d84aa8-e2be-4756-923a-20cfcab81918"
      },
      "outputs": [
        {
          "output_type": "display_data",
          "data": {
            "text/plain": [
              "<Figure size 1080x360 with 1 Axes>"
            ],
            "image/png": "[encoded data removed]"
          },
          "metadata": {
            "needs_background": "light"
          }
        }
      ],
      "source": [
        "#answer 1\n",
        "month_wise_data= df_hotel['arrival_date_month'].value_counts()\n",
        "plt.figure(figsize=(15,5))\n",
        "month_wise_data.plot(kind = \"bar\",color='r',grid=True)\n",
        "plt.title('Display Monthwise data')\n",
        "plt.xlabel('Months')\n",
        "plt.ylabel('Number of Guests');"
      ]
    },
    {
      "cell_type": "markdown",
      "metadata": {
        "id": "-6g1Kp_0OtbC"
      },
      "source": [
        "# * **Hotel higher booking cancellation rate**"
      ]
    },
    {
      "cell_type": "code",
      "execution_count": null,
      "metadata": {
        "colab": {
          "base_uri": "https://localhost:8080/",
          "height": 295
        },
        "id": "9VPzJkKaANOP",
        "outputId": "bd19a3c8-72aa-4aa5-b068-d13a90c9fa81"
      },
      "outputs": [
        {
          "output_type": "display_data",
          "data": {
            "text/plain": [
              "<Figure size 432x288 with 1 Axes>"
            ],
            "image/png": "[encoded data removed]"
          },
          "metadata": {
            "needs_background": "light"
          }
        }
      ],
      "source": [
        "#we find canceled counts\n",
        "cancellation_rate = df_hotel['is_canceled'].value_counts().reset_index()\n",
        "#Rename columns\n",
        "cancellation_rate.columns=['cancellation_graph','User']\n",
        "#plot graph\n",
        "sns.barplot(x=cancellation_rate['cancellation_graph'],y=cancellation_rate['User'],palette=\"tab10\")\n",
        "plt.title(\"Cancellation Graph\")\n",
        "plt.ylabel(\"number of guest\")\n",
        "plt.xlabel(\"Booking not cancel guest                          Booking cancel guest\")\n",
        "plt.show()\n"
      ]
    },
    {
      "cell_type": "markdown",
      "metadata": {
        "id": "oe5sb5QwTc4-"
      },
      "source": [
        "# Problems---->type of room\n",
        "* Q1.How many types of rooms are provided through Hotels? \n",
        "* Q2.most preffered room by the guest?\n"
      ]
    },
    {
      "cell_type": "code",
      "execution_count": null,
      "metadata": {
        "colab": {
          "base_uri": "https://localhost:8080/"
        },
        "id": "sHoaWLoGTTvA",
        "outputId": "7a0e0358-eae3-455d-d859-a99b25a5aee5"
      },
      "outputs": [
        {
          "output_type": "execute_result",
          "data": {
            "text/plain": [
              "array(['C', 'A', 'D', 'E', 'G', 'F', 'H', 'L', 'P', 'B'], dtype=object)"
            ]
          },
          "metadata": {},
          "execution_count": 44
        }
      ],
      "source": [
        "#Answer 1\n",
        "provided_room_by_hotel = df_hotel['reserved_room_type'].unique()\n",
        "provided_room_by_hotel\n"
      ]
    },
    {
      "cell_type": "code",
      "execution_count": null,
      "metadata": {
        "colab": {
          "base_uri": "https://localhost:8080/",
          "height": 296
        },
        "id": "TFaMXoAvWduD",
        "outputId": "cf099ed2-66bd-455a-ed66-ced6f8af4e73"
      },
      "outputs": [
        {
          "output_type": "display_data",
          "data": {
            "text/plain": [
              "<Figure size 432x288 with 1 Axes>"
            ],
            "image/png": "[encoded data removed]"
          },
          "metadata": {
            "needs_background": "light"
          }
        }
      ],
      "source": [
        "#answer 2\n",
        "most_prefer_room = df_hotel['reserved_room_type'].value_counts().reset_index()\n",
        "most_prefer_room.columns=['room_type','number_of_prefrence']\n",
        "#Now ploting the graph\n",
        "sns.barplot(x=most_prefer_room[\"room_type\"],y=most_prefer_room[\"number_of_prefrence\"],palette=\"Set2\")\n",
        "plt.title(\"bar chart of room wise prefrence\")\n",
        "plt.ylabel(\"number of Guest prefrences\")\n",
        "plt.show()"
      ]
    },
    {
      "cell_type": "markdown",
      "metadata": {
        "id": "a4q_H701fuQk"
      },
      "source": [
        "#Hotel Meal Consumption Analysis\n",
        "* Q1.type of meal offer by hotel?\n",
        "* Q2.most  prefer meal consumption"
      ]
    },
    {
      "cell_type": "code",
      "execution_count": null,
      "metadata": {
        "colab": {
          "base_uri": "https://localhost:8080/"
        },
        "id": "Lio3IOnSf5Ky",
        "outputId": "4e24f9bb-866a-4e3b-ee38-39d074f97420"
      },
      "outputs": [
        {
          "output_type": "execute_result",
          "data": {
            "text/plain": [
              "array(['BB', 'FB', 'HB', 'SC', 'Undefined'], dtype=object)"
            ]
          },
          "metadata": {},
          "execution_count": 50
        }
      ],
      "source": [
        "#answer1\n",
        "df_hotel['meal'].unique()"
      ]
    },
    {
      "cell_type": "code",
      "execution_count": null,
      "metadata": {
        "colab": {
          "base_uri": "https://localhost:8080/",
          "height": 206
        },
        "id": "Fqc82CKThF0i",
        "outputId": "b457f356-323f-4ddc-f684-af42e3a88047"
      },
      "outputs": [
        {
          "output_type": "execute_result",
          "data": {
            "text/plain": [
              "   Meal_type  number_of_preference\n",
              "0         BB                 67978\n",
              "1         SC                  9481\n",
              "2         HB                  9085\n",
              "3  Undefined                   492\n",
              "4         FB                   360"
            ],
            "text/html": [
              "\n",
              "  <div id=\"df-26d57025-c24f-40d6-a5c1-62867f5c868c\">\n",
              "    <div class=\"colab-df-container\">\n",
              "      <div>\n",
              "<style scoped>\n",
              "    .dataframe tbody tr th:only-of-type {\n",
              "        vertical-align: middle;\n",
              "    }\n",
              "\n",
              "    .dataframe tbody tr th {\n",
              "        vertical-align: top;\n",
              "    }\n",
              "\n",
              "    .dataframe thead th {\n",
              "        text-align: right;\n",
              "    }\n",
              "</style>\n",
              "<table border=\"1\" class=\"dataframe\">\n",
              "  <thead>\n",
              "    <tr style=\"text-align: right;\">\n",
              "      <th></th>\n",
              "      <th>Meal_type</th>\n",
              "      <th>number_of_preference</th>\n",
              "    </tr>\n",
              "  </thead>\n",
              "  <tbody>\n",
              "    <tr>\n",
              "      <th>0</th>\n",
              "      <td>BB</td>\n",
              "      <td>67978</td>\n",
              "    </tr>\n",
              "    <tr>\n",
              "      <th>1</th>\n",
              "      <td>SC</td>\n",
              "      <td>9481</td>\n",
              "    </tr>\n",
              "    <tr>\n",
              "      <th>2</th>\n",
              "      <td>HB</td>\n",
              "      <td>9085</td>\n",
              "    </tr>\n",
              "    <tr>\n",
              "      <th>3</th>\n",
              "      <td>Undefined</td>\n",
              "      <td>492</td>\n",
              "    </tr>\n",
              "    <tr>\n",
              "      <th>4</th>\n",
              "      <td>FB</td>\n",
              "      <td>360</td>\n",
              "    </tr>\n",
              "  </tbody>\n",
              "</table>\n",
              "</div>\n",
              "      <button class=\"colab-df-convert\" onclick=\"convertToInteractive('df-26d57025-c24f-40d6-a5c1-62867f5c868c')\"\n",
              "              title=\"Convert this dataframe to an interactive table.\"\n",
              "              style=\"display:none;\">\n",
              "        \n",
              "  <svg xmlns=\"http://www.w3.org/2000/svg\" height=\"24px\"viewBox=\"0 0 24 24\"\n",
              "       width=\"24px\">\n",
              "    <path d=\"M0 0h24v24H0V0z\" fill=\"none\"/>\n",
              "    <path d=\"M18.56 5.44l.94 2.06.94-2.06 2.06-.94-2.06-.94-.94-2.06-.94 2.06-2.06.94zm-11 1L8.5 8.5l.94-2.06 2.06-.94-2.06-.94L8.5 2.5l-.94 2.06-2.06.94zm10 10l.94 2.06.94-2.06 2.06-.94-2.06-.94-.94-2.06-.94 2.06-2.06.94z\"/><path d=\"M17.41 7.96l-1.37-1.37c-.4-.4-.92-.59-1.43-.59-.52 0-1.04.2-1.43.59L10.3 9.45l-7.72 7.72c-.78.78-.78 2.05 0 2.83L4 21.41c.39.39.9.59 1.41.59.51 0 1.02-.2 1.41-.59l7.78-7.78 2.81-2.81c.8-.78.8-2.07 0-2.86zM5.41 20L4 18.59l7.72-7.72 1.47 1.35L5.41 20z\"/>\n",
              "  </svg>\n",
              "      </button>\n",
              "      \n",
              "  <style>\n",
              "    .colab-df-container {\n",
              "      display:flex;\n",
              "      flex-wrap:wrap;\n",
              "      gap: 12px;\n",
              "    }\n",
              "\n",
              "    .colab-df-convert {\n",
              "      background-color: #E8F0FE;\n",
              "      border: none;\n",
              "      border-radius: 50%;\n",
              "      cursor: pointer;\n",
              "      display: none;\n",
              "      fill: #1967D2;\n",
              "      height: 32px;\n",
              "      padding: 0 0 0 0;\n",
              "      width: 32px;\n",
              "    }\n",
              "\n",
              "    .colab-df-convert:hover {\n",
              "      background-color: #E2EBFA;\n",
              "      box-shadow: 0px 1px 2px rgba(60, 64, 67, 0.3), 0px 1px 3px 1px rgba(60, 64, 67, 0.15);\n",
              "      fill: #174EA6;\n",
              "    }\n",
              "\n",
              "    [theme=dark] .colab-df-convert {\n",
              "      background-color: #3B4455;\n",
              "      fill: #D2E3FC;\n",
              "    }\n",
              "\n",
              "    [theme=dark] .colab-df-convert:hover {\n",
              "      background-color: #434B5C;\n",
              "      box-shadow: 0px 1px 3px 1px rgba(0, 0, 0, 0.15);\n",
              "      filter: drop-shadow(0px 1px 2px rgba(0, 0, 0, 0.3));\n",
              "      fill: #FFFFFF;\n",
              "    }\n",
              "  </style>\n",
              "\n",
              "      <script>\n",
              "        const buttonEl =\n",
              "          document.querySelector('#df-26d57025-c24f-40d6-a5c1-62867f5c868c button.colab-df-convert');\n",
              "        buttonEl.style.display =\n",
              "          google.colab.kernel.accessAllowed ? 'block' : 'none';\n",
              "\n",
              "        async function convertToInteractive(key) {\n",
              "          const element = document.querySelector('#df-26d57025-c24f-40d6-a5c1-62867f5c868c');\n",
              "          const dataTable =\n",
              "            await google.colab.kernel.invokeFunction('convertToInteractive',\n",
              "                                                     [key], {});\n",
              "          if (!dataTable) return;\n",
              "\n",
              "          const docLinkHtml = 'Like what you see? Visit the ' +\n",
              "            '<a target=\"_blank\" href=https://colab.research.google.com/notebooks/data_table.ipynb>data table notebook</a>'\n",
              "            + ' to learn more about interactive tables.';\n",
              "          element.innerHTML = '';\n",
              "          dataTable['output_type'] = 'display_data';\n",
              "          await google.colab.output.renderOutput(dataTable, element);\n",
              "          const docLink = document.createElement('div');\n",
              "          docLink.innerHTML = docLinkHtml;\n",
              "          element.appendChild(docLink);\n",
              "        }\n",
              "      </script>\n",
              "    </div>\n",
              "  </div>\n",
              "  "
            ]
          },
          "metadata": {},
          "execution_count": 51
        }
      ],
      "source": [
        "#answer 2\n",
        "meal=df_hotel['meal'].value_counts().reset_index()\n",
        "meal.columns=['Meal_type','number_of_preference']\n",
        "meal"
      ]
    },
    {
      "cell_type": "code",
      "execution_count": null,
      "metadata": {
        "colab": {
          "base_uri": "https://localhost:8080/",
          "height": 295
        },
        "id": "obeli9XdhT-n",
        "outputId": "88d1a51e-fe15-4d40-c43b-276897fcdc5a"
      },
      "outputs": [
        {
          "output_type": "display_data",
          "data": {
            "text/plain": [
              "<Figure size 432x288 with 1 Axes>"
            ],
            "image/png": "[encoded data removed]"
          },
          "metadata": {
            "needs_background": "light"
          }
        }
      ],
      "source": [
        "#Graph \n",
        "sns.barplot(x=meal[\"Meal_type\"],y=meal[\"number_of_preference\"],palette=\"tab10\")\n",
        "plt.title('Graph of Meal Consumption')\n",
        "plt.ylabel('Number of Meal Consumption User')\n",
        "plt.xlabel(\"Meal Type\")\n",
        "plt.show()\n"
      ]
    },
    {
      "cell_type": "code",
      "source": [
        "df_hotel['country'].notnull().value_counts()"
      ],
      "metadata": {
        "id": "39WqTu10TPpN"
      },
      "execution_count": null,
      "outputs": []
    },
    {
      "cell_type": "code",
      "source": [
        "countrybook = df_hotel['country'].value_counts().reset_index().head()\n",
        "countrybook.columns=['country name','Number of guest']\n",
        "countrybook"
      ],
      "metadata": {
        "colab": {
          "base_uri": "https://localhost:8080/",
          "height": 206
        },
        "id": "hCaHBS21ThOc",
        "outputId": "297e54aa-800e-4571-b950-f639bbbc5f93"
      },
      "execution_count": null,
      "outputs": [
        {
          "output_type": "execute_result",
          "data": {
            "text/plain": [
              "  country name  Number of guest\n",
              "0          PRT            27453\n",
              "1          GBR            10433\n",
              "2          FRA             8837\n",
              "3          ESP             7252\n",
              "4          DEU             5387"
            ],
            "text/html": [
              "\n",
              "  <div id=\"df-3cdf38fb-d8c7-413c-8d57-04a44b823752\">\n",
              "    <div class=\"colab-df-container\">\n",
              "      <div>\n",
              "<style scoped>\n",
              "    .dataframe tbody tr th:only-of-type {\n",
              "        vertical-align: middle;\n",
              "    }\n",
              "\n",
              "    .dataframe tbody tr th {\n",
              "        vertical-align: top;\n",
              "    }\n",
              "\n",
              "    .dataframe thead th {\n",
              "        text-align: right;\n",
              "    }\n",
              "</style>\n",
              "<table border=\"1\" class=\"dataframe\">\n",
              "  <thead>\n",
              "    <tr style=\"text-align: right;\">\n",
              "      <th></th>\n",
              "      <th>country name</th>\n",
              "      <th>Number of guest</th>\n",
              "    </tr>\n",
              "  </thead>\n",
              "  <tbody>\n",
              "    <tr>\n",
              "      <th>0</th>\n",
              "      <td>PRT</td>\n",
              "      <td>27453</td>\n",
              "    </tr>\n",
              "    <tr>\n",
              "      <th>1</th>\n",
              "      <td>GBR</td>\n",
              "      <td>10433</td>\n",
              "    </tr>\n",
              "    <tr>\n",
              "      <th>2</th>\n",
              "      <td>FRA</td>\n",
              "      <td>8837</td>\n",
              "    </tr>\n",
              "    <tr>\n",
              "      <th>3</th>\n",
              "      <td>ESP</td>\n",
              "      <td>7252</td>\n",
              "    </tr>\n",
              "    <tr>\n",
              "      <th>4</th>\n",
              "      <td>DEU</td>\n",
              "      <td>5387</td>\n",
              "    </tr>\n",
              "  </tbody>\n",
              "</table>\n",
              "</div>\n",
              "      <button class=\"colab-df-convert\" onclick=\"convertToInteractive('df-3cdf38fb-d8c7-413c-8d57-04a44b823752')\"\n",
              "              title=\"Convert this dataframe to an interactive table.\"\n",
              "              style=\"display:none;\">\n",
              "        \n",
              "  <svg xmlns=\"http://www.w3.org/2000/svg\" height=\"24px\"viewBox=\"0 0 24 24\"\n",
              "       width=\"24px\">\n",
              "    <path d=\"M0 0h24v24H0V0z\" fill=\"none\"/>\n",
              "    <path d=\"M18.56 5.44l.94 2.06.94-2.06 2.06-.94-2.06-.94-.94-2.06-.94 2.06-2.06.94zm-11 1L8.5 8.5l.94-2.06 2.06-.94-2.06-.94L8.5 2.5l-.94 2.06-2.06.94zm10 10l.94 2.06.94-2.06 2.06-.94-2.06-.94-.94-2.06-.94 2.06-2.06.94z\"/><path d=\"M17.41 7.96l-1.37-1.37c-.4-.4-.92-.59-1.43-.59-.52 0-1.04.2-1.43.59L10.3 9.45l-7.72 7.72c-.78.78-.78 2.05 0 2.83L4 21.41c.39.39.9.59 1.41.59.51 0 1.02-.2 1.41-.59l7.78-7.78 2.81-2.81c.8-.78.8-2.07 0-2.86zM5.41 20L4 18.59l7.72-7.72 1.47 1.35L5.41 20z\"/>\n",
              "  </svg>\n",
              "      </button>\n",
              "      \n",
              "  <style>\n",
              "    .colab-df-container {\n",
              "      display:flex;\n",
              "      flex-wrap:wrap;\n",
              "      gap: 12px;\n",
              "    }\n",
              "\n",
              "    .colab-df-convert {\n",
              "      background-color: #E8F0FE;\n",
              "      border: none;\n",
              "      border-radius: 50%;\n",
              "      cursor: pointer;\n",
              "      display: none;\n",
              "      fill: #1967D2;\n",
              "      height: 32px;\n",
              "      padding: 0 0 0 0;\n",
              "      width: 32px;\n",
              "    }\n",
              "\n",
              "    .colab-df-convert:hover {\n",
              "      background-color: #E2EBFA;\n",
              "      box-shadow: 0px 1px 2px rgba(60, 64, 67, 0.3), 0px 1px 3px 1px rgba(60, 64, 67, 0.15);\n",
              "      fill: #174EA6;\n",
              "    }\n",
              "\n",
              "    [theme=dark] .colab-df-convert {\n",
              "      background-color: #3B4455;\n",
              "      fill: #D2E3FC;\n",
              "    }\n",
              "\n",
              "    [theme=dark] .colab-df-convert:hover {\n",
              "      background-color: #434B5C;\n",
              "      box-shadow: 0px 1px 3px 1px rgba(0, 0, 0, 0.15);\n",
              "      filter: drop-shadow(0px 1px 2px rgba(0, 0, 0, 0.3));\n",
              "      fill: #FFFFFF;\n",
              "    }\n",
              "  </style>\n",
              "\n",
              "      <script>\n",
              "        const buttonEl =\n",
              "          document.querySelector('#df-3cdf38fb-d8c7-413c-8d57-04a44b823752 button.colab-df-convert');\n",
              "        buttonEl.style.display =\n",
              "          google.colab.kernel.accessAllowed ? 'block' : 'none';\n",
              "\n",
              "        async function convertToInteractive(key) {\n",
              "          const element = document.querySelector('#df-3cdf38fb-d8c7-413c-8d57-04a44b823752');\n",
              "          const dataTable =\n",
              "            await google.colab.kernel.invokeFunction('convertToInteractive',\n",
              "                                                     [key], {});\n",
              "          if (!dataTable) return;\n",
              "\n",
              "          const docLinkHtml = 'Like what you see? Visit the ' +\n",
              "            '<a target=\"_blank\" href=https://colab.research.google.com/notebooks/data_table.ipynb>data table notebook</a>'\n",
              "            + ' to learn more about interactive tables.';\n",
              "          element.innerHTML = '';\n",
              "          dataTable['output_type'] = 'display_data';\n",
              "          await google.colab.output.renderOutput(dataTable, element);\n",
              "          const docLink = document.createElement('div');\n",
              "          docLink.innerHTML = docLinkHtml;\n",
              "          element.appendChild(docLink);\n",
              "        }\n",
              "      </script>\n",
              "    </div>\n",
              "  </div>\n",
              "  "
            ]
          },
          "metadata": {},
          "execution_count": 68
        }
      ]
    },
    {
      "cell_type": "code",
      "execution_count": null,
      "metadata": {
        "id": "IkZjRak3Hr6A",
        "colab": {
          "base_uri": "https://localhost:8080/",
          "height": 295
        },
        "outputId": "b8098153-b5d0-43f3-de58-f66b575001a2"
      },
      "outputs": [
        {
          "output_type": "display_data",
          "data": {
            "text/plain": [
              "<Figure size 432x288 with 1 Axes>"
            ],
            "image/png": "[encoded data removed]"
          },
          "metadata": {
            "needs_background": "light"
          }
        }
      ],
      "source": [
        "#Graph \n",
        "sns.barplot(x=countrybook[\"country name\"],y=countrybook[\"Number of guest\"],palette=\"tab10\")\n",
        "plt.title('Graph of coustmer visit maximum')\n",
        "plt.ylabel('Number of guest')\n",
        "plt.xlabel(\"country name\")\n",
        "plt.show()\n"
      ]
    },
    {
      "cell_type": "markdown",
      "source": [
        "# **Conclusion**"
      ],
      "metadata": {
        "id": "D5szsI3vYRH0"
      }
    },
    {
      "cell_type": "markdown",
      "source": [
        "![image.png](data:image/png;base64,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)"
      ],
      "metadata": {
        "id": "N_ne1i6vcUDp"
      }
    }
  ],
  "metadata": {
    "colab": {
      "provenance": [],
      "collapsed_sections": [
        "kXdHnzNcNOq7",
        "bmG9WdGZplN1",
        "7dpO29r8k5cd",
        "r4XfKQyQiB_1",
        "-6g1Kp_0OtbC",
        "oe5sb5QwTc4-",
        "a4q_H701fuQk",
        "D5szsI3vYRH0"
      ],
      "include_colab_link": true
    },
    "kernelspec": {
      "display_name": "Python 3",
      "language": "python",
      "name": "python3"
    },
    "language_info": {
      "codemirror_mode": {
        "name": "ipython",
        "version": 3
      },
      "file_extension": ".py",
      "mimetype": "text/x-python",
      "name": "python",
      "nbconvert_exporter": "python",
      "pygments_lexer": "ipython3",
      "version": "3.6.6"
    }
  },
  "nbformat": 4,
  "nbformat_minor": 0
}